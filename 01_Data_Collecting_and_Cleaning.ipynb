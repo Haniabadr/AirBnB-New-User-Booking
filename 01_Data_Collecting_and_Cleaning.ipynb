{
 "cells": [
  {
   "cell_type": "markdown",
   "id": "8aa31e94",
   "metadata": {
    "id": "8aa31e94"
   },
   "source": [
    "# Notes \n",
    "**Business understanding** – What’s the Airbnb business model? <br> \n",
    "**Data understanding** – Is the data complete and reliable? <br> \n",
    "**Data preparation** – Preprocessing data for EDA and predictive analytics. <br> \n"
   ]
  },
  {
   "cell_type": "markdown",
   "id": "34fd7bf0",
   "metadata": {
    "id": "34fd7bf0"
   },
   "source": [
    "# Our Client \n",
    "Airbnb was born in 2007 when two Hosts welcomed three guests to their San Francisco home, and has since grown to 4 million Hosts who have welcomed more than 1 billion guest arrivals in almost every country across the globe. Every day, Hosts offer unique stays and one-of-a-kind activities that make it possible for guests to experience the world in a more authentic, connected way.\n",
    "\n",
    "\n",
    "# Defining the Problem and Project Goal\n",
    "You are given a list of users along with their demographics, web session records, and some summary statistics. <br> \n",
    "\n",
    "The first objective of this project is to recognize **key factors that will use to know the first destination of new Airbnb Users**.<br>  The second one is to develop a **to predict which country a new user's first booking destination will be**. \n",
    "\n",
    "------------------------------------------------------------------------------------------------------------------\n",
    "\n",
    "## Dataset Overview\n",
    "\n",
    "There are 12 possible outcomes of the destination country: 'US', 'FR', 'CA', 'GB', 'ES', 'IT', 'PT', 'NL','DE', 'AU', 'NDF' (no destination found), and 'other'. Please note that 'NDF' is different from 'other' because 'other' means there was a booking, but is to a country not included in the list, while 'NDF' means there wasn't a booking.\n",
    "\n",
    "The training and test sets are split by dates. In the test set, you will predict all the new users with first activities after 7/1/2014 (note: this is updated on 12/5/15 when the competition restarted). In the sessions dataset, the data only dates back to 1/1/2014, while the users dataset dates back to 2010. \n",
    "\n",
    "------------------------------------------------------------------------------------------------------------------\n",
    "\n",
    "**train_users.csv** - the training set of users\n",
    "* id: user id\n",
    "* date_account_created: the date of account creation\n",
    "* timestamp_first_active: timestamp of the first activity, note that it can be earlier than date_account_created or date_first_booking because a user can search before signing up\n",
    "* date_first_booking: date of first booking\n",
    "* gender\n",
    "* age\n",
    "* signup_method\n",
    "* signup_flow: the page a user came to signup up from\n",
    "* language: international language preference\n",
    "* affiliate_channel: what kind of paid marketing\n",
    "* affiliate_provider: where the marketing is e.g. google, craigslist, other\n",
    "* first_affiliate_tracked: whats the first marketing the user interacted with before the signing up\n",
    "* signup_app\n",
    "* first_device_type\n",
    "* first_browser\n",
    "* country_destination: this is the target variable you are to predict\n",
    "------------------------------------------------------------------------------------------------------------------\n",
    "**sessions.csv** - web sessions log for users\n",
    "* user_id: to be joined with the column 'id' in users table\n",
    "* action\n",
    "* action_type\n",
    "* action_detail\n",
    "* device_type\n",
    "* secs_elapsed\n",
    "------------------------------------------------------------------------------------------------------------------\n",
    "\n",
    "**countries.csv** - summary statistics of destination countries in this dataset and their locations\n",
    "\n",
    "------------------------------------------------------------------------------------------------------------------\n",
    "\n",
    "**age_gender_bkts.csv** - summary statistics of users' age group, gender, country of destination\n",
    "\n",
    "------------------------------------------------------------------------------------------------------------------\n",
    "\n",
    "**Dataset :**\n",
    "https://www.kaggle.com/c/airbnb-recruiting-new-user-bookings/overview"
   ]
  },
  {
   "cell_type": "code",
   "execution_count": 1,
   "id": "e9fmTw6ScYE3",
   "metadata": {
    "colab": {
     "base_uri": "https://localhost:8080/"
    },
    "executionInfo": {
     "elapsed": 2421,
     "status": "ok",
     "timestamp": 1645448305305,
     "user": {
      "displayName": "Mohamed Ahmed Hassan Abdelmaguid Mohamed",
      "photoUrl": "https://lh3.googleusercontent.com/a-/AOh14Gg7Cz_FAvD0YxWzRP7aQqIpUg-scVtk8zA6OPSSfw=s64",
      "userId": "04245446656493821652"
     },
     "user_tz": -120
    },
    "id": "e9fmTw6ScYE3",
    "outputId": "d726ed13-8294-477b-c5c9-e7b078244043"
   },
   "outputs": [],
   "source": [
    "# from google.colab import drive\n",
    "# drive.mount('/content/gdrive/')\n",
    "# import sys\n",
    "# sys.path.append('/content/gdrive/MyDrive/Colab Notebooks/Airbnb New User Bookings/')"
   ]
  },
  {
   "cell_type": "markdown",
   "id": "7b10cd0b",
   "metadata": {
    "id": "7b10cd0b"
   },
   "source": [
    "# Importing libraries\n"
   ]
  },
  {
   "cell_type": "code",
   "execution_count": 2,
   "id": "081fd9fd",
   "metadata": {
    "executionInfo": {
     "elapsed": 9,
     "status": "ok",
     "timestamp": 1645448305306,
     "user": {
      "displayName": "Mohamed Ahmed Hassan Abdelmaguid Mohamed",
      "photoUrl": "https://lh3.googleusercontent.com/a-/AOh14Gg7Cz_FAvD0YxWzRP7aQqIpUg-scVtk8zA6OPSSfw=s64",
      "userId": "04245446656493821652"
     },
     "user_tz": -120
    },
    "id": "081fd9fd"
   },
   "outputs": [],
   "source": [
    "## for data\n",
    "import json\n",
    "import pandas as pd\n",
    "import numpy as np\n",
    "import os\n",
    "from datetime import datetime, date\n",
    "\n",
    "## for plotting\n",
    "import matplotlib.pyplot as plt\n",
    "import seaborn as sns\n",
    "from IPython.display import display\n",
    "pd.set_option('display.max_rows', 500)\n",
    "pd.set_option('display.max_columns', 500)\n",
    "pd.set_option('display.width', 1000)\n",
    "sns.set(rc={'figure.figsize': [10, 7]}, font_scale=1.0)\n",
    "\n",
    "\n"
   ]
  },
  {
   "cell_type": "markdown",
   "id": "55c2687e",
   "metadata": {
    "id": "55c2687e"
   },
   "source": [
    "# Helper Functions\n"
   ]
  },
  {
   "cell_type": "code",
   "execution_count": 3,
   "id": "c84b3c7a",
   "metadata": {
    "executionInfo": {
     "elapsed": 9,
     "status": "ok",
     "timestamp": 1645448305307,
     "user": {
      "displayName": "Mohamed Ahmed Hassan Abdelmaguid Mohamed",
      "photoUrl": "https://lh3.googleusercontent.com/a-/AOh14Gg7Cz_FAvD0YxWzRP7aQqIpUg-scVtk8zA6OPSSfw=s64",
      "userId": "04245446656493821652"
     },
     "user_tz": -120
    },
    "id": "c84b3c7a"
   },
   "outputs": [],
   "source": [
    "#Loading Data function\n",
    "def load_data(DATA_PATH,name):\n",
    "    \"\"\"Loading the data passing the data path and the name of file\"\"\"\n",
    "    csv_path=os.path.join(DATA_PATH,name)\n",
    "    return pd.read_csv(csv_path)\n"
   ]
  },
  {
   "cell_type": "markdown",
   "id": "b50cffc3",
   "metadata": {
    "id": "b50cffc3"
   },
   "source": [
    "# Get the data"
   ]
  },
  {
   "cell_type": "code",
   "execution_count": 4,
   "id": "4c68c81c",
   "metadata": {
    "executionInfo": {
     "elapsed": 11055,
     "status": "ok",
     "timestamp": 1645448840785,
     "user": {
      "displayName": "Mohamed Ahmed Hassan Abdelmaguid Mohamed",
      "photoUrl": "https://lh3.googleusercontent.com/a-/AOh14Gg7Cz_FAvD0YxWzRP7aQqIpUg-scVtk8zA6OPSSfw=s64",
      "userId": "04245446656493821652"
     },
     "user_tz": -120
    },
    "id": "4c68c81c"
   },
   "outputs": [],
   "source": [
    "# Let us load the data now.\n",
    "#DATA_PATH=\"/content/gdrive/MyDrive/Colab Notebooks/Airbnb New User Bookings/datasets/\"\n",
    "\n",
    "# sessions=load_data(DATA_PATH,'sessions.csv.zip')\n",
    "# countries=load_data(DATA_PATH,'countries.csv.zip')\n",
    "# age_gender=load_data(DATA_PATH,'age_gender_bkts.csv.zip')\n",
    "\n",
    "# train_users= load_data(DATA_PATH,'train_users_2.csv.zip')\n",
    "# test_users= load_data(DATA_PATH,'test_users.csv.zip')\n",
    "\n",
    "\n",
    "\n",
    "# Let us load the data now. (local)\n",
    "DATA_PATH=\"./datasets/\"\n",
    "\n",
    "sessions=load_data(DATA_PATH,'sessions.csv')\n",
    "countries=load_data(DATA_PATH,'countries.csv')\n",
    "age_gender=load_data(DATA_PATH,'age_gender_bkts.csv')\n",
    "\n",
    "train_users= load_data(DATA_PATH,'train_users_2.csv')\n",
    "test_users= load_data(DATA_PATH,'test_users.csv')\n",
    "\n",
    "\n",
    "\n"
   ]
  },
  {
   "cell_type": "markdown",
   "id": "16d4e71d",
   "metadata": {
    "id": "16d4e71d"
   },
   "source": [
    "#  Clean the Data\n",
    "\n"
   ]
  },
  {
   "cell_type": "markdown",
   "id": "7aa03174",
   "metadata": {
    "id": "7aa03174"
   },
   "source": [
    "### Let us see the summary statistics of users' age group, gender, country of destination\n"
   ]
  },
  {
   "cell_type": "code",
   "execution_count": 5,
   "id": "05f59842",
   "metadata": {
    "colab": {
     "base_uri": "https://localhost:8080/",
     "height": 206
    },
    "executionInfo": {
     "elapsed": 43,
     "status": "ok",
     "timestamp": 1645448317979,
     "user": {
      "displayName": "Mohamed Ahmed Hassan Abdelmaguid Mohamed",
      "photoUrl": "https://lh3.googleusercontent.com/a-/AOh14Gg7Cz_FAvD0YxWzRP7aQqIpUg-scVtk8zA6OPSSfw=s64",
      "userId": "04245446656493821652"
     },
     "user_tz": -120
    },
    "id": "05f59842",
    "outputId": "e5d0c595-7454-45ed-b5fc-7129845d827e"
   },
   "outputs": [
    {
     "data": {
      "text/html": [
       "<div>\n",
       "<style scoped>\n",
       "    .dataframe tbody tr th:only-of-type {\n",
       "        vertical-align: middle;\n",
       "    }\n",
       "\n",
       "    .dataframe tbody tr th {\n",
       "        vertical-align: top;\n",
       "    }\n",
       "\n",
       "    .dataframe thead th {\n",
       "        text-align: right;\n",
       "    }\n",
       "</style>\n",
       "<table border=\"1\" class=\"dataframe\">\n",
       "  <thead>\n",
       "    <tr style=\"text-align: right;\">\n",
       "      <th></th>\n",
       "      <th>age_bucket</th>\n",
       "      <th>country_destination</th>\n",
       "      <th>gender</th>\n",
       "      <th>population_in_thousands</th>\n",
       "      <th>year</th>\n",
       "    </tr>\n",
       "  </thead>\n",
       "  <tbody>\n",
       "    <tr>\n",
       "      <th>0</th>\n",
       "      <td>100+</td>\n",
       "      <td>AU</td>\n",
       "      <td>male</td>\n",
       "      <td>1.0</td>\n",
       "      <td>2015.0</td>\n",
       "    </tr>\n",
       "    <tr>\n",
       "      <th>1</th>\n",
       "      <td>95-99</td>\n",
       "      <td>AU</td>\n",
       "      <td>male</td>\n",
       "      <td>9.0</td>\n",
       "      <td>2015.0</td>\n",
       "    </tr>\n",
       "    <tr>\n",
       "      <th>2</th>\n",
       "      <td>90-94</td>\n",
       "      <td>AU</td>\n",
       "      <td>male</td>\n",
       "      <td>47.0</td>\n",
       "      <td>2015.0</td>\n",
       "    </tr>\n",
       "    <tr>\n",
       "      <th>3</th>\n",
       "      <td>85-89</td>\n",
       "      <td>AU</td>\n",
       "      <td>male</td>\n",
       "      <td>118.0</td>\n",
       "      <td>2015.0</td>\n",
       "    </tr>\n",
       "    <tr>\n",
       "      <th>4</th>\n",
       "      <td>80-84</td>\n",
       "      <td>AU</td>\n",
       "      <td>male</td>\n",
       "      <td>199.0</td>\n",
       "      <td>2015.0</td>\n",
       "    </tr>\n",
       "  </tbody>\n",
       "</table>\n",
       "</div>"
      ],
      "text/plain": [
       "  age_bucket country_destination gender  population_in_thousands    year\n",
       "0       100+                  AU   male                      1.0  2015.0\n",
       "1      95-99                  AU   male                      9.0  2015.0\n",
       "2      90-94                  AU   male                     47.0  2015.0\n",
       "3      85-89                  AU   male                    118.0  2015.0\n",
       "4      80-84                  AU   male                    199.0  2015.0"
      ]
     },
     "execution_count": 5,
     "metadata": {},
     "output_type": "execute_result"
    }
   ],
   "source": [
    "age_gender.head()"
   ]
  },
  {
   "cell_type": "code",
   "execution_count": 6,
   "id": "9e780917",
   "metadata": {
    "colab": {
     "base_uri": "https://localhost:8080/"
    },
    "executionInfo": {
     "elapsed": 40,
     "status": "ok",
     "timestamp": 1645448317979,
     "user": {
      "displayName": "Mohamed Ahmed Hassan Abdelmaguid Mohamed",
      "photoUrl": "https://lh3.googleusercontent.com/a-/AOh14Gg7Cz_FAvD0YxWzRP7aQqIpUg-scVtk8zA6OPSSfw=s64",
      "userId": "04245446656493821652"
     },
     "user_tz": -120
    },
    "id": "9e780917",
    "outputId": "d2b7f51b-87cc-475f-9523-32597e2d6768"
   },
   "outputs": [
    {
     "name": "stdout",
     "output_type": "stream",
     "text": [
      "The shape of the data is -> (420, 5) \n",
      " \n",
      "<class 'pandas.core.frame.DataFrame'>\n",
      "RangeIndex: 420 entries, 0 to 419\n",
      "Data columns (total 5 columns):\n",
      " #   Column                   Non-Null Count  Dtype  \n",
      "---  ------                   --------------  -----  \n",
      " 0   age_bucket               420 non-null    object \n",
      " 1   country_destination      420 non-null    object \n",
      " 2   gender                   420 non-null    object \n",
      " 3   population_in_thousands  420 non-null    float64\n",
      " 4   year                     420 non-null    float64\n",
      "dtypes: float64(2), object(3)\n",
      "memory usage: 16.5+ KB\n"
     ]
    }
   ],
   "source": [
    "print(\"The shape of the data is -> {} \\n \".format(age_gender.shape))\n",
    "age_gender.info()"
   ]
  },
  {
   "cell_type": "code",
   "execution_count": 7,
   "id": "86955778",
   "metadata": {
    "colab": {
     "base_uri": "https://localhost:8080/"
    },
    "executionInfo": {
     "elapsed": 37,
     "status": "ok",
     "timestamp": 1645448317980,
     "user": {
      "displayName": "Mohamed Ahmed Hassan Abdelmaguid Mohamed",
      "photoUrl": "https://lh3.googleusercontent.com/a-/AOh14Gg7Cz_FAvD0YxWzRP7aQqIpUg-scVtk8zA6OPSSfw=s64",
      "userId": "04245446656493821652"
     },
     "user_tz": -120
    },
    "id": "86955778",
    "outputId": "f22c73b8-1210-473d-b7fb-7e004207effe"
   },
   "outputs": [
    {
     "data": {
      "text/plain": [
       "age_bucket                 0\n",
       "country_destination        0\n",
       "gender                     0\n",
       "population_in_thousands    0\n",
       "year                       0\n",
       "dtype: int64"
      ]
     },
     "execution_count": 7,
     "metadata": {},
     "output_type": "execute_result"
    }
   ],
   "source": [
    "age_gender.isnull().sum()"
   ]
  },
  {
   "cell_type": "markdown",
   "id": "815b9179",
   "metadata": {
    "id": "815b9179"
   },
   "source": [
    "No missing values in this dataset\n",
    "\n",
    "----------------------------------------------------------------------------------"
   ]
  },
  {
   "cell_type": "markdown",
   "id": "037a3ed1",
   "metadata": {
    "id": "037a3ed1"
   },
   "source": [
    "**Age Bucket**"
   ]
  },
  {
   "cell_type": "code",
   "execution_count": 8,
   "id": "9016e152",
   "metadata": {
    "colab": {
     "base_uri": "https://localhost:8080/"
    },
    "executionInfo": {
     "elapsed": 35,
     "status": "ok",
     "timestamp": 1645448317980,
     "user": {
      "displayName": "Mohamed Ahmed Hassan Abdelmaguid Mohamed",
      "photoUrl": "https://lh3.googleusercontent.com/a-/AOh14Gg7Cz_FAvD0YxWzRP7aQqIpUg-scVtk8zA6OPSSfw=s64",
      "userId": "04245446656493821652"
     },
     "user_tz": -120
    },
    "id": "9016e152",
    "outputId": "cfaddd01-12a9-46be-e4b7-bb328acea2fa"
   },
   "outputs": [
    {
     "data": {
      "text/plain": [
       "100+     20\n",
       "45-49    20\n",
       "5-9      20\n",
       "10-14    20\n",
       "15-19    20\n",
       "20-24    20\n",
       "25-29    20\n",
       "30-34    20\n",
       "35-39    20\n",
       "40-44    20\n",
       "50-54    20\n",
       "95-99    20\n",
       "55-59    20\n",
       "60-64    20\n",
       "65-69    20\n",
       "70-74    20\n",
       "75-79    20\n",
       "80-84    20\n",
       "85-89    20\n",
       "90-94    20\n",
       "0-4      20\n",
       "Name: age_bucket, dtype: int64"
      ]
     },
     "execution_count": 8,
     "metadata": {},
     "output_type": "execute_result"
    }
   ],
   "source": [
    "age_gender['age_bucket'].value_counts()"
   ]
  },
  {
   "cell_type": "code",
   "execution_count": 9,
   "id": "17b56007",
   "metadata": {
    "colab": {
     "base_uri": "https://localhost:8080/"
    },
    "executionInfo": {
     "elapsed": 33,
     "status": "ok",
     "timestamp": 1645448317981,
     "user": {
      "displayName": "Mohamed Ahmed Hassan Abdelmaguid Mohamed",
      "photoUrl": "https://lh3.googleusercontent.com/a-/AOh14Gg7Cz_FAvD0YxWzRP7aQqIpUg-scVtk8zA6OPSSfw=s64",
      "userId": "04245446656493821652"
     },
     "user_tz": -120
    },
    "id": "17b56007",
    "outputId": "e1464aed-a8cd-45db-a8ce-2325a1c07b53"
   },
   "outputs": [
    {
     "data": {
      "text/plain": [
       "array(['100+', '95-99', '90-94', '85-89', '80-84', '75-79', '70-74',\n",
       "       '65-69', '60-64', '55-59', '50-54', '45-49', '40-44', '35-39',\n",
       "       '30-34', '25-29', '20-24', '15-19', '10-14', '5-9', '0-4'],\n",
       "      dtype=object)"
      ]
     },
     "execution_count": 9,
     "metadata": {},
     "output_type": "execute_result"
    }
   ],
   "source": [
    "# Let us see unique of age_bucket feature\n",
    "age_gender['age_bucket'].unique()"
   ]
  },
  {
   "cell_type": "markdown",
   "id": "5ed9a7ce",
   "metadata": {
    "id": "5ed9a7ce"
   },
   "source": [
    "Let's make **100+** like the other values as range between **100-104**"
   ]
  },
  {
   "cell_type": "code",
   "execution_count": 10,
   "id": "70dde599",
   "metadata": {
    "colab": {
     "base_uri": "https://localhost:8080/"
    },
    "executionInfo": {
     "elapsed": 32,
     "status": "ok",
     "timestamp": 1645448317982,
     "user": {
      "displayName": "Mohamed Ahmed Hassan Abdelmaguid Mohamed",
      "photoUrl": "https://lh3.googleusercontent.com/a-/AOh14Gg7Cz_FAvD0YxWzRP7aQqIpUg-scVtk8zA6OPSSfw=s64",
      "userId": "04245446656493821652"
     },
     "user_tz": -120
    },
    "id": "70dde599",
    "outputId": "4977e226-63bd-4a65-9a26-6b6d62b50e6c"
   },
   "outputs": [
    {
     "data": {
      "text/plain": [
       "array(['100-104', '95-99', '90-94', '85-89', '80-84', '75-79', '70-74',\n",
       "       '65-69', '60-64', '55-59', '50-54', '45-49', '40-44', '35-39',\n",
       "       '30-34', '25-29', '20-24', '15-19', '10-14', '5-9', '0-4'],\n",
       "      dtype=object)"
      ]
     },
     "execution_count": 10,
     "metadata": {},
     "output_type": "execute_result"
    }
   ],
   "source": [
    "age_gender['age_bucket'].replace(\"100+\",\"100-104\",inplace=True)\n",
    "age_gender['age_bucket'].unique()"
   ]
  },
  {
   "cell_type": "code",
   "execution_count": 11,
   "id": "d4786ae5",
   "metadata": {
    "executionInfo": {
     "elapsed": 30,
     "status": "ok",
     "timestamp": 1645448317982,
     "user": {
      "displayName": "Mohamed Ahmed Hassan Abdelmaguid Mohamed",
      "photoUrl": "https://lh3.googleusercontent.com/a-/AOh14Gg7Cz_FAvD0YxWzRP7aQqIpUg-scVtk8zA6OPSSfw=s64",
      "userId": "04245446656493821652"
     },
     "user_tz": -120
    },
    "id": "d4786ae5"
   },
   "outputs": [],
   "source": [
    "age_gender[['age_bucket_Start','age_bucket_End']]=age_gender['age_bucket'].str.split('-',expand=True)\n",
    "age_gender['age_bucket_Start']=age_gender['age_bucket_Start'].astype('int')\n",
    "age_gender['age_bucket_End']=age_gender['age_bucket_End'].astype('int')"
   ]
  },
  {
   "cell_type": "code",
   "execution_count": 12,
   "id": "a324e3cf",
   "metadata": {
    "colab": {
     "base_uri": "https://localhost:8080/",
     "height": 206
    },
    "executionInfo": {
     "elapsed": 30,
     "status": "ok",
     "timestamp": 1645448317983,
     "user": {
      "displayName": "Mohamed Ahmed Hassan Abdelmaguid Mohamed",
      "photoUrl": "https://lh3.googleusercontent.com/a-/AOh14Gg7Cz_FAvD0YxWzRP7aQqIpUg-scVtk8zA6OPSSfw=s64",
      "userId": "04245446656493821652"
     },
     "user_tz": -120
    },
    "id": "a324e3cf",
    "outputId": "28f3d84b-4f81-4a7f-b49b-a104f8de286a"
   },
   "outputs": [
    {
     "data": {
      "text/html": [
       "<div>\n",
       "<style scoped>\n",
       "    .dataframe tbody tr th:only-of-type {\n",
       "        vertical-align: middle;\n",
       "    }\n",
       "\n",
       "    .dataframe tbody tr th {\n",
       "        vertical-align: top;\n",
       "    }\n",
       "\n",
       "    .dataframe thead th {\n",
       "        text-align: right;\n",
       "    }\n",
       "</style>\n",
       "<table border=\"1\" class=\"dataframe\">\n",
       "  <thead>\n",
       "    <tr style=\"text-align: right;\">\n",
       "      <th></th>\n",
       "      <th>age_bucket</th>\n",
       "      <th>country_destination</th>\n",
       "      <th>gender</th>\n",
       "      <th>population_in_thousands</th>\n",
       "      <th>year</th>\n",
       "      <th>age_bucket_Start</th>\n",
       "      <th>age_bucket_End</th>\n",
       "    </tr>\n",
       "  </thead>\n",
       "  <tbody>\n",
       "    <tr>\n",
       "      <th>0</th>\n",
       "      <td>100-104</td>\n",
       "      <td>AU</td>\n",
       "      <td>male</td>\n",
       "      <td>1.0</td>\n",
       "      <td>2015.0</td>\n",
       "      <td>100</td>\n",
       "      <td>104</td>\n",
       "    </tr>\n",
       "    <tr>\n",
       "      <th>1</th>\n",
       "      <td>95-99</td>\n",
       "      <td>AU</td>\n",
       "      <td>male</td>\n",
       "      <td>9.0</td>\n",
       "      <td>2015.0</td>\n",
       "      <td>95</td>\n",
       "      <td>99</td>\n",
       "    </tr>\n",
       "    <tr>\n",
       "      <th>2</th>\n",
       "      <td>90-94</td>\n",
       "      <td>AU</td>\n",
       "      <td>male</td>\n",
       "      <td>47.0</td>\n",
       "      <td>2015.0</td>\n",
       "      <td>90</td>\n",
       "      <td>94</td>\n",
       "    </tr>\n",
       "    <tr>\n",
       "      <th>3</th>\n",
       "      <td>85-89</td>\n",
       "      <td>AU</td>\n",
       "      <td>male</td>\n",
       "      <td>118.0</td>\n",
       "      <td>2015.0</td>\n",
       "      <td>85</td>\n",
       "      <td>89</td>\n",
       "    </tr>\n",
       "    <tr>\n",
       "      <th>4</th>\n",
       "      <td>80-84</td>\n",
       "      <td>AU</td>\n",
       "      <td>male</td>\n",
       "      <td>199.0</td>\n",
       "      <td>2015.0</td>\n",
       "      <td>80</td>\n",
       "      <td>84</td>\n",
       "    </tr>\n",
       "  </tbody>\n",
       "</table>\n",
       "</div>"
      ],
      "text/plain": [
       "  age_bucket country_destination gender  population_in_thousands    year  age_bucket_Start  age_bucket_End\n",
       "0    100-104                  AU   male                      1.0  2015.0               100             104\n",
       "1      95-99                  AU   male                      9.0  2015.0                95              99\n",
       "2      90-94                  AU   male                     47.0  2015.0                90              94\n",
       "3      85-89                  AU   male                    118.0  2015.0                85              89\n",
       "4      80-84                  AU   male                    199.0  2015.0                80              84"
      ]
     },
     "execution_count": 12,
     "metadata": {},
     "output_type": "execute_result"
    }
   ],
   "source": [
    "age_gender.head()"
   ]
  },
  {
   "cell_type": "markdown",
   "id": "6ad88446",
   "metadata": {
    "id": "6ad88446"
   },
   "source": [
    "**Country Destination**"
   ]
  },
  {
   "cell_type": "code",
   "execution_count": 13,
   "id": "90cbcae7",
   "metadata": {
    "colab": {
     "base_uri": "https://localhost:8080/"
    },
    "executionInfo": {
     "elapsed": 28,
     "status": "ok",
     "timestamp": 1645448317983,
     "user": {
      "displayName": "Mohamed Ahmed Hassan Abdelmaguid Mohamed",
      "photoUrl": "https://lh3.googleusercontent.com/a-/AOh14Gg7Cz_FAvD0YxWzRP7aQqIpUg-scVtk8zA6OPSSfw=s64",
      "userId": "04245446656493821652"
     },
     "user_tz": -120
    },
    "id": "90cbcae7",
    "outputId": "c6835ccb-47e5-42eb-8c52-2ed740597ac6"
   },
   "outputs": [
    {
     "data": {
      "text/plain": [
       "AU    42\n",
       "CA    42\n",
       "DE    42\n",
       "ES    42\n",
       "FR    42\n",
       "GB    42\n",
       "IT    42\n",
       "NL    42\n",
       "PT    42\n",
       "US    42\n",
       "Name: country_destination, dtype: int64"
      ]
     },
     "execution_count": 13,
     "metadata": {},
     "output_type": "execute_result"
    }
   ],
   "source": [
    "age_gender['country_destination'].value_counts()"
   ]
  },
  {
   "cell_type": "code",
   "execution_count": 14,
   "id": "4d1bd69b",
   "metadata": {
    "colab": {
     "base_uri": "https://localhost:8080/"
    },
    "executionInfo": {
     "elapsed": 28,
     "status": "ok",
     "timestamp": 1645448317984,
     "user": {
      "displayName": "Mohamed Ahmed Hassan Abdelmaguid Mohamed",
      "photoUrl": "https://lh3.googleusercontent.com/a-/AOh14Gg7Cz_FAvD0YxWzRP7aQqIpUg-scVtk8zA6OPSSfw=s64",
      "userId": "04245446656493821652"
     },
     "user_tz": -120
    },
    "id": "4d1bd69b",
    "outputId": "e4f23370-4a54-49b7-9be9-8507fe3943bf"
   },
   "outputs": [
    {
     "data": {
      "text/plain": [
       "male      210\n",
       "female    210\n",
       "Name: gender, dtype: int64"
      ]
     },
     "execution_count": 14,
     "metadata": {},
     "output_type": "execute_result"
    }
   ],
   "source": [
    "age_gender['gender'].value_counts()"
   ]
  },
  {
   "cell_type": "markdown",
   "id": "c8cf2edc",
   "metadata": {
    "id": "c8cf2edc"
   },
   "source": [
    "**Gender**"
   ]
  },
  {
   "cell_type": "code",
   "execution_count": 15,
   "id": "dae33136",
   "metadata": {
    "colab": {
     "base_uri": "https://localhost:8080/"
    },
    "executionInfo": {
     "elapsed": 26,
     "status": "ok",
     "timestamp": 1645448317985,
     "user": {
      "displayName": "Mohamed Ahmed Hassan Abdelmaguid Mohamed",
      "photoUrl": "https://lh3.googleusercontent.com/a-/AOh14Gg7Cz_FAvD0YxWzRP7aQqIpUg-scVtk8zA6OPSSfw=s64",
      "userId": "04245446656493821652"
     },
     "user_tz": -120
    },
    "id": "dae33136",
    "outputId": "bff44e9f-175c-4160-a9ef-12d094b5b313"
   },
   "outputs": [
    {
     "data": {
      "text/plain": [
       "male      210\n",
       "female    210\n",
       "Name: gender, dtype: int64"
      ]
     },
     "execution_count": 15,
     "metadata": {},
     "output_type": "execute_result"
    }
   ],
   "source": [
    "age_gender['gender'].value_counts()"
   ]
  },
  {
   "cell_type": "markdown",
   "id": "bdc6a649",
   "metadata": {
    "id": "bdc6a649"
   },
   "source": [
    "Lets convert the gender into a categorical binary variable.\n",
    "**'male':1 , 'female':0**"
   ]
  },
  {
   "cell_type": "code",
   "execution_count": 16,
   "id": "1c939060",
   "metadata": {
    "colab": {
     "base_uri": "https://localhost:8080/"
    },
    "executionInfo": {
     "elapsed": 24,
     "status": "ok",
     "timestamp": 1645448317985,
     "user": {
      "displayName": "Mohamed Ahmed Hassan Abdelmaguid Mohamed",
      "photoUrl": "https://lh3.googleusercontent.com/a-/AOh14Gg7Cz_FAvD0YxWzRP7aQqIpUg-scVtk8zA6OPSSfw=s64",
      "userId": "04245446656493821652"
     },
     "user_tz": -120
    },
    "id": "1c939060",
    "outputId": "2d15d8e5-6758-40af-d5ec-7f889875a198"
   },
   "outputs": [
    {
     "data": {
      "text/plain": [
       "1    210\n",
       "0    210\n",
       "Name: gender, dtype: int64"
      ]
     },
     "execution_count": 16,
     "metadata": {},
     "output_type": "execute_result"
    }
   ],
   "source": [
    "age_gender['gender'].replace({'male':1 , 'female':0},inplace=True)\n",
    "age_gender['gender'].value_counts()"
   ]
  },
  {
   "cell_type": "markdown",
   "id": "8a3546aa",
   "metadata": {
    "id": "8a3546aa"
   },
   "source": [
    "**Year**"
   ]
  },
  {
   "cell_type": "code",
   "execution_count": 17,
   "id": "6f0f584a",
   "metadata": {
    "executionInfo": {
     "elapsed": 23,
     "status": "ok",
     "timestamp": 1645448317986,
     "user": {
      "displayName": "Mohamed Ahmed Hassan Abdelmaguid Mohamed",
      "photoUrl": "https://lh3.googleusercontent.com/a-/AOh14Gg7Cz_FAvD0YxWzRP7aQqIpUg-scVtk8zA6OPSSfw=s64",
      "userId": "04245446656493821652"
     },
     "user_tz": -120
    },
    "id": "6f0f584a"
   },
   "outputs": [],
   "source": [
    "age_gender['year'].value_counts()\n",
    "age_gender.drop(columns='year',inplace=True)"
   ]
  },
  {
   "cell_type": "markdown",
   "id": "e1f8c0be",
   "metadata": {
    "id": "e1f8c0be"
   },
   "source": [
    "The data should be between **2010-2014**, but we have only value available for the year feature **2015**. so this feature will not give us any important information to us, and it's **better to drop it**"
   ]
  },
  {
   "cell_type": "code",
   "execution_count": 18,
   "id": "4e693de9",
   "metadata": {
    "colab": {
     "base_uri": "https://localhost:8080/"
    },
    "executionInfo": {
     "elapsed": 22,
     "status": "ok",
     "timestamp": 1645448317986,
     "user": {
      "displayName": "Mohamed Ahmed Hassan Abdelmaguid Mohamed",
      "photoUrl": "https://lh3.googleusercontent.com/a-/AOh14Gg7Cz_FAvD0YxWzRP7aQqIpUg-scVtk8zA6OPSSfw=s64",
      "userId": "04245446656493821652"
     },
     "user_tz": -120
    },
    "id": "4e693de9",
    "outputId": "668dd7bd-3697-48bb-f575-47cd2b63151a"
   },
   "outputs": [
    {
     "data": {
      "text/plain": [
       "count      420.000000\n",
       "mean      1743.133333\n",
       "std       2509.843202\n",
       "min          0.000000\n",
       "25%        396.500000\n",
       "50%       1090.500000\n",
       "75%       1968.000000\n",
       "max      11601.000000\n",
       "Name: population_in_thousands, dtype: float64"
      ]
     },
     "execution_count": 18,
     "metadata": {},
     "output_type": "execute_result"
    }
   ],
   "source": [
    "age_gender['population_in_thousands'].describe().T"
   ]
  },
  {
   "cell_type": "markdown",
   "id": "c174b309",
   "metadata": {
    "id": "c174b309"
   },
   "source": [
    "### Let us see summary statistics of destination countries in this dataset and their locations\n",
    "\n"
   ]
  },
  {
   "cell_type": "code",
   "execution_count": 19,
   "id": "857a6f7b",
   "metadata": {
    "colab": {
     "base_uri": "https://localhost:8080/",
     "height": 363
    },
    "executionInfo": {
     "elapsed": 21,
     "status": "ok",
     "timestamp": 1645448317986,
     "user": {
      "displayName": "Mohamed Ahmed Hassan Abdelmaguid Mohamed",
      "photoUrl": "https://lh3.googleusercontent.com/a-/AOh14Gg7Cz_FAvD0YxWzRP7aQqIpUg-scVtk8zA6OPSSfw=s64",
      "userId": "04245446656493821652"
     },
     "user_tz": -120
    },
    "id": "857a6f7b",
    "outputId": "af7377ff-bbbb-4533-84dc-5757651866bc"
   },
   "outputs": [
    {
     "data": {
      "text/html": [
       "<div>\n",
       "<style scoped>\n",
       "    .dataframe tbody tr th:only-of-type {\n",
       "        vertical-align: middle;\n",
       "    }\n",
       "\n",
       "    .dataframe tbody tr th {\n",
       "        vertical-align: top;\n",
       "    }\n",
       "\n",
       "    .dataframe thead th {\n",
       "        text-align: right;\n",
       "    }\n",
       "</style>\n",
       "<table border=\"1\" class=\"dataframe\">\n",
       "  <thead>\n",
       "    <tr style=\"text-align: right;\">\n",
       "      <th></th>\n",
       "      <th>country_destination</th>\n",
       "      <th>lat_destination</th>\n",
       "      <th>lng_destination</th>\n",
       "      <th>distance_km</th>\n",
       "      <th>destination_km2</th>\n",
       "      <th>destination_language</th>\n",
       "      <th>language_levenshtein_distance</th>\n",
       "    </tr>\n",
       "  </thead>\n",
       "  <tbody>\n",
       "    <tr>\n",
       "      <th>0</th>\n",
       "      <td>AU</td>\n",
       "      <td>-26.853388</td>\n",
       "      <td>133.275160</td>\n",
       "      <td>15297.7440</td>\n",
       "      <td>7741220.0</td>\n",
       "      <td>eng</td>\n",
       "      <td>0.00</td>\n",
       "    </tr>\n",
       "    <tr>\n",
       "      <th>1</th>\n",
       "      <td>CA</td>\n",
       "      <td>62.393303</td>\n",
       "      <td>-96.818146</td>\n",
       "      <td>2828.1333</td>\n",
       "      <td>9984670.0</td>\n",
       "      <td>eng</td>\n",
       "      <td>0.00</td>\n",
       "    </tr>\n",
       "    <tr>\n",
       "      <th>2</th>\n",
       "      <td>DE</td>\n",
       "      <td>51.165707</td>\n",
       "      <td>10.452764</td>\n",
       "      <td>7879.5680</td>\n",
       "      <td>357022.0</td>\n",
       "      <td>deu</td>\n",
       "      <td>72.61</td>\n",
       "    </tr>\n",
       "    <tr>\n",
       "      <th>3</th>\n",
       "      <td>ES</td>\n",
       "      <td>39.896027</td>\n",
       "      <td>-2.487694</td>\n",
       "      <td>7730.7240</td>\n",
       "      <td>505370.0</td>\n",
       "      <td>spa</td>\n",
       "      <td>92.25</td>\n",
       "    </tr>\n",
       "    <tr>\n",
       "      <th>4</th>\n",
       "      <td>FR</td>\n",
       "      <td>46.232193</td>\n",
       "      <td>2.209667</td>\n",
       "      <td>7682.9450</td>\n",
       "      <td>643801.0</td>\n",
       "      <td>fra</td>\n",
       "      <td>92.06</td>\n",
       "    </tr>\n",
       "    <tr>\n",
       "      <th>5</th>\n",
       "      <td>GB</td>\n",
       "      <td>54.633220</td>\n",
       "      <td>-3.432277</td>\n",
       "      <td>6883.6590</td>\n",
       "      <td>243610.0</td>\n",
       "      <td>eng</td>\n",
       "      <td>0.00</td>\n",
       "    </tr>\n",
       "    <tr>\n",
       "      <th>6</th>\n",
       "      <td>IT</td>\n",
       "      <td>41.873990</td>\n",
       "      <td>12.564167</td>\n",
       "      <td>8636.6310</td>\n",
       "      <td>301340.0</td>\n",
       "      <td>ita</td>\n",
       "      <td>89.40</td>\n",
       "    </tr>\n",
       "    <tr>\n",
       "      <th>7</th>\n",
       "      <td>NL</td>\n",
       "      <td>52.133057</td>\n",
       "      <td>5.295250</td>\n",
       "      <td>7524.3203</td>\n",
       "      <td>41543.0</td>\n",
       "      <td>nld</td>\n",
       "      <td>63.22</td>\n",
       "    </tr>\n",
       "    <tr>\n",
       "      <th>8</th>\n",
       "      <td>PT</td>\n",
       "      <td>39.553444</td>\n",
       "      <td>-7.839319</td>\n",
       "      <td>7355.2534</td>\n",
       "      <td>92090.0</td>\n",
       "      <td>por</td>\n",
       "      <td>95.45</td>\n",
       "    </tr>\n",
       "    <tr>\n",
       "      <th>9</th>\n",
       "      <td>US</td>\n",
       "      <td>36.966427</td>\n",
       "      <td>-95.844030</td>\n",
       "      <td>0.0000</td>\n",
       "      <td>9826675.0</td>\n",
       "      <td>eng</td>\n",
       "      <td>0.00</td>\n",
       "    </tr>\n",
       "  </tbody>\n",
       "</table>\n",
       "</div>"
      ],
      "text/plain": [
       "  country_destination  lat_destination  lng_destination  distance_km  destination_km2 destination_language   language_levenshtein_distance\n",
       "0                  AU       -26.853388       133.275160   15297.7440        7741220.0                   eng                           0.00\n",
       "1                  CA        62.393303       -96.818146    2828.1333        9984670.0                   eng                           0.00\n",
       "2                  DE        51.165707        10.452764    7879.5680         357022.0                   deu                          72.61\n",
       "3                  ES        39.896027        -2.487694    7730.7240         505370.0                   spa                          92.25\n",
       "4                  FR        46.232193         2.209667    7682.9450         643801.0                   fra                          92.06\n",
       "5                  GB        54.633220        -3.432277    6883.6590         243610.0                   eng                           0.00\n",
       "6                  IT        41.873990        12.564167    8636.6310         301340.0                   ita                          89.40\n",
       "7                  NL        52.133057         5.295250    7524.3203          41543.0                   nld                          63.22\n",
       "8                  PT        39.553444        -7.839319    7355.2534          92090.0                   por                          95.45\n",
       "9                  US        36.966427       -95.844030       0.0000        9826675.0                   eng                           0.00"
      ]
     },
     "execution_count": 19,
     "metadata": {},
     "output_type": "execute_result"
    }
   ],
   "source": [
    "countries"
   ]
  },
  {
   "cell_type": "code",
   "execution_count": 20,
   "id": "ecf3bb7f",
   "metadata": {
    "colab": {
     "base_uri": "https://localhost:8080/"
    },
    "executionInfo": {
     "elapsed": 417,
     "status": "ok",
     "timestamp": 1645448318383,
     "user": {
      "displayName": "Mohamed Ahmed Hassan Abdelmaguid Mohamed",
      "photoUrl": "https://lh3.googleusercontent.com/a-/AOh14Gg7Cz_FAvD0YxWzRP7aQqIpUg-scVtk8zA6OPSSfw=s64",
      "userId": "04245446656493821652"
     },
     "user_tz": -120
    },
    "id": "ecf3bb7f",
    "outputId": "71fb143b-ba41-4fa7-9552-6c7438efde85"
   },
   "outputs": [
    {
     "name": "stdout",
     "output_type": "stream",
     "text": [
      "The shape of the data is -> (10, 7) \n",
      " \n",
      "<class 'pandas.core.frame.DataFrame'>\n",
      "RangeIndex: 10 entries, 0 to 9\n",
      "Data columns (total 7 columns):\n",
      " #   Column                         Non-Null Count  Dtype  \n",
      "---  ------                         --------------  -----  \n",
      " 0   country_destination            10 non-null     object \n",
      " 1   lat_destination                10 non-null     float64\n",
      " 2   lng_destination                10 non-null     float64\n",
      " 3   distance_km                    10 non-null     float64\n",
      " 4   destination_km2                10 non-null     float64\n",
      " 5   destination_language           10 non-null     object \n",
      " 6   language_levenshtein_distance  10 non-null     float64\n",
      "dtypes: float64(5), object(2)\n",
      "memory usage: 688.0+ bytes\n"
     ]
    }
   ],
   "source": [
    "print(\"The shape of the data is -> {} \\n \".format(countries.shape))\n",
    "countries.info()"
   ]
  },
  {
   "cell_type": "code",
   "execution_count": 21,
   "id": "43dbc2f9",
   "metadata": {
    "colab": {
     "base_uri": "https://localhost:8080/"
    },
    "executionInfo": {
     "elapsed": 6,
     "status": "ok",
     "timestamp": 1645448318383,
     "user": {
      "displayName": "Mohamed Ahmed Hassan Abdelmaguid Mohamed",
      "photoUrl": "https://lh3.googleusercontent.com/a-/AOh14Gg7Cz_FAvD0YxWzRP7aQqIpUg-scVtk8zA6OPSSfw=s64",
      "userId": "04245446656493821652"
     },
     "user_tz": -120
    },
    "id": "43dbc2f9",
    "outputId": "ce489e9e-2f15-44a3-eb95-fd6685f219ac"
   },
   "outputs": [
    {
     "data": {
      "text/plain": [
       "Index(['country_destination', 'lat_destination', 'lng_destination', 'distance_km', 'destination_km2', 'destination_language ', 'language_levenshtein_distance'], dtype='object')"
      ]
     },
     "execution_count": 21,
     "metadata": {},
     "output_type": "execute_result"
    }
   ],
   "source": [
    "countries.columns"
   ]
  },
  {
   "cell_type": "markdown",
   "id": "be584465",
   "metadata": {
    "id": "be584465"
   },
   "source": [
    "We notice there are space in columns names let's fix it"
   ]
  },
  {
   "cell_type": "code",
   "execution_count": 22,
   "id": "d50ea439",
   "metadata": {
    "executionInfo": {
     "elapsed": 5,
     "status": "ok",
     "timestamp": 1645448318384,
     "user": {
      "displayName": "Mohamed Ahmed Hassan Abdelmaguid Mohamed",
      "photoUrl": "https://lh3.googleusercontent.com/a-/AOh14Gg7Cz_FAvD0YxWzRP7aQqIpUg-scVtk8zA6OPSSfw=s64",
      "userId": "04245446656493821652"
     },
     "user_tz": -120
    },
    "id": "d50ea439"
   },
   "outputs": [],
   "source": [
    "countries.columns = countries.columns.str.replace(' ', '')"
   ]
  },
  {
   "cell_type": "markdown",
   "id": "f2016ddf",
   "metadata": {
    "id": "f2016ddf"
   },
   "source": [
    "This dataset is **very small**, so will not do any processing in it, but will see if will need in the future or not."
   ]
  },
  {
   "cell_type": "markdown",
   "id": "4d0b1f54",
   "metadata": {
    "id": "4d0b1f54"
   },
   "source": [
    "### Let us work with the Sessions dataset"
   ]
  },
  {
   "cell_type": "markdown",
   "id": "ZeSrI6JbsWkZ",
   "metadata": {
    "id": "ZeSrI6JbsWkZ"
   },
   "source": []
  },
  {
   "cell_type": "code",
   "execution_count": 23,
   "id": "8ace644e",
   "metadata": {
    "colab": {
     "base_uri": "https://localhost:8080/",
     "height": 676
    },
    "executionInfo": {
     "elapsed": 402,
     "status": "ok",
     "timestamp": 1645448318783,
     "user": {
      "displayName": "Mohamed Ahmed Hassan Abdelmaguid Mohamed",
      "photoUrl": "https://lh3.googleusercontent.com/a-/AOh14Gg7Cz_FAvD0YxWzRP7aQqIpUg-scVtk8zA6OPSSfw=s64",
      "userId": "04245446656493821652"
     },
     "user_tz": -120
    },
    "id": "8ace644e",
    "outputId": "3e6a3337-e203-4ad8-d709-04f9fa65292e"
   },
   "outputs": [
    {
     "data": {
      "text/html": [
       "<div>\n",
       "<style scoped>\n",
       "    .dataframe tbody tr th:only-of-type {\n",
       "        vertical-align: middle;\n",
       "    }\n",
       "\n",
       "    .dataframe tbody tr th {\n",
       "        vertical-align: top;\n",
       "    }\n",
       "\n",
       "    .dataframe thead th {\n",
       "        text-align: right;\n",
       "    }\n",
       "</style>\n",
       "<table border=\"1\" class=\"dataframe\">\n",
       "  <thead>\n",
       "    <tr style=\"text-align: right;\">\n",
       "      <th></th>\n",
       "      <th>user_id</th>\n",
       "      <th>action</th>\n",
       "      <th>action_type</th>\n",
       "      <th>action_detail</th>\n",
       "      <th>device_type</th>\n",
       "      <th>secs_elapsed</th>\n",
       "    </tr>\n",
       "  </thead>\n",
       "  <tbody>\n",
       "    <tr>\n",
       "      <th>5520933</th>\n",
       "      <td>89nxs4ws71</td>\n",
       "      <td>show</td>\n",
       "      <td>view</td>\n",
       "      <td>p3</td>\n",
       "      <td>Mac Desktop</td>\n",
       "      <td>144.0</td>\n",
       "    </tr>\n",
       "    <tr>\n",
       "      <th>1914231</th>\n",
       "      <td>cum3r4yaj2</td>\n",
       "      <td>ajax_lwlb_contact</td>\n",
       "      <td>click</td>\n",
       "      <td>contact_host</td>\n",
       "      <td>Windows Desktop</td>\n",
       "      <td>23664.0</td>\n",
       "    </tr>\n",
       "    <tr>\n",
       "      <th>3468962</th>\n",
       "      <td>gjpaf0itv7</td>\n",
       "      <td>search</td>\n",
       "      <td>click</td>\n",
       "      <td>view_search_results</td>\n",
       "      <td>Android App Unknown Phone/Tablet</td>\n",
       "      <td>3950.0</td>\n",
       "    </tr>\n",
       "    <tr>\n",
       "      <th>84916</th>\n",
       "      <td>39gy8i8lie</td>\n",
       "      <td>social_connections</td>\n",
       "      <td>-unknown-</td>\n",
       "      <td>-unknown-</td>\n",
       "      <td>iPhone</td>\n",
       "      <td>29205.0</td>\n",
       "    </tr>\n",
       "    <tr>\n",
       "      <th>5888351</th>\n",
       "      <td>iwg6bh8olg</td>\n",
       "      <td>request_new_confirm_email</td>\n",
       "      <td>click</td>\n",
       "      <td>request_new_confirm_email</td>\n",
       "      <td>Windows Desktop</td>\n",
       "      <td>784.0</td>\n",
       "    </tr>\n",
       "    <tr>\n",
       "      <th>7842533</th>\n",
       "      <td>ofh9pizdf6</td>\n",
       "      <td>reviews</td>\n",
       "      <td>data</td>\n",
       "      <td>user_reviews</td>\n",
       "      <td>Android Phone</td>\n",
       "      <td>17699.0</td>\n",
       "    </tr>\n",
       "    <tr>\n",
       "      <th>4973202</th>\n",
       "      <td>etwysx4eea</td>\n",
       "      <td>show</td>\n",
       "      <td>view</td>\n",
       "      <td>p3</td>\n",
       "      <td>iPhone</td>\n",
       "      <td>100950.0</td>\n",
       "    </tr>\n",
       "    <tr>\n",
       "      <th>10420704</th>\n",
       "      <td>7hyy9umc8j</td>\n",
       "      <td>search_results</td>\n",
       "      <td>click</td>\n",
       "      <td>view_search_results</td>\n",
       "      <td>Mac Desktop</td>\n",
       "      <td>1267.0</td>\n",
       "    </tr>\n",
       "    <tr>\n",
       "      <th>1036178</th>\n",
       "      <td>rks84riib9</td>\n",
       "      <td>similar_listings</td>\n",
       "      <td>data</td>\n",
       "      <td>similar_listings</td>\n",
       "      <td>Chromebook</td>\n",
       "      <td>85.0</td>\n",
       "    </tr>\n",
       "    <tr>\n",
       "      <th>3854449</th>\n",
       "      <td>vba39jkpmr</td>\n",
       "      <td>show</td>\n",
       "      <td>view</td>\n",
       "      <td>p3</td>\n",
       "      <td>Windows Desktop</td>\n",
       "      <td>6861.0</td>\n",
       "    </tr>\n",
       "    <tr>\n",
       "      <th>4621980</th>\n",
       "      <td>hsnyuevfyg</td>\n",
       "      <td>personalize</td>\n",
       "      <td>data</td>\n",
       "      <td>wishlist_content_update</td>\n",
       "      <td>Windows Desktop</td>\n",
       "      <td>1071.0</td>\n",
       "    </tr>\n",
       "    <tr>\n",
       "      <th>5060702</th>\n",
       "      <td>d57sh0ggdn</td>\n",
       "      <td>impressions</td>\n",
       "      <td>view</td>\n",
       "      <td>p4</td>\n",
       "      <td>Windows Desktop</td>\n",
       "      <td>13193.0</td>\n",
       "    </tr>\n",
       "    <tr>\n",
       "      <th>7355206</th>\n",
       "      <td>b6vkjqwm4d</td>\n",
       "      <td>social_connections</td>\n",
       "      <td>data</td>\n",
       "      <td>user_social_connections</td>\n",
       "      <td>iPad Tablet</td>\n",
       "      <td>43.0</td>\n",
       "    </tr>\n",
       "    <tr>\n",
       "      <th>3937348</th>\n",
       "      <td>tzhotk4ddk</td>\n",
       "      <td>collections</td>\n",
       "      <td>view</td>\n",
       "      <td>user_wishlists</td>\n",
       "      <td>Android Phone</td>\n",
       "      <td>20839.0</td>\n",
       "    </tr>\n",
       "    <tr>\n",
       "      <th>8079717</th>\n",
       "      <td>vp8ngx09l1</td>\n",
       "      <td>callback</td>\n",
       "      <td>partner_callback</td>\n",
       "      <td>oauth_response</td>\n",
       "      <td>Mac Desktop</td>\n",
       "      <td>11152.0</td>\n",
       "    </tr>\n",
       "    <tr>\n",
       "      <th>10305846</th>\n",
       "      <td>qdopqxdqj8</td>\n",
       "      <td>show</td>\n",
       "      <td>view</td>\n",
       "      <td>p3</td>\n",
       "      <td>iPhone</td>\n",
       "      <td>259.0</td>\n",
       "    </tr>\n",
       "    <tr>\n",
       "      <th>10533312</th>\n",
       "      <td>96jq9gns0v</td>\n",
       "      <td>view</td>\n",
       "      <td>view</td>\n",
       "      <td>p3</td>\n",
       "      <td>Android Phone</td>\n",
       "      <td>71972.0</td>\n",
       "    </tr>\n",
       "    <tr>\n",
       "      <th>8634767</th>\n",
       "      <td>2c5sixeukv</td>\n",
       "      <td>personalize</td>\n",
       "      <td>data</td>\n",
       "      <td>wishlist_content_update</td>\n",
       "      <td>Mac Desktop</td>\n",
       "      <td>721.0</td>\n",
       "    </tr>\n",
       "    <tr>\n",
       "      <th>6515092</th>\n",
       "      <td>qpejwbj1xj</td>\n",
       "      <td>show</td>\n",
       "      <td>view</td>\n",
       "      <td>p3</td>\n",
       "      <td>Windows Desktop</td>\n",
       "      <td>101.0</td>\n",
       "    </tr>\n",
       "    <tr>\n",
       "      <th>9192470</th>\n",
       "      <td>spx1ugkuji</td>\n",
       "      <td>show</td>\n",
       "      <td>view</td>\n",
       "      <td>p3</td>\n",
       "      <td>Windows Desktop</td>\n",
       "      <td>79911.0</td>\n",
       "    </tr>\n",
       "  </tbody>\n",
       "</table>\n",
       "</div>"
      ],
      "text/plain": [
       "             user_id                     action       action_type              action_detail                       device_type  secs_elapsed\n",
       "5520933   89nxs4ws71                       show              view                         p3                       Mac Desktop         144.0\n",
       "1914231   cum3r4yaj2          ajax_lwlb_contact             click               contact_host                   Windows Desktop       23664.0\n",
       "3468962   gjpaf0itv7                     search             click        view_search_results  Android App Unknown Phone/Tablet        3950.0\n",
       "84916     39gy8i8lie         social_connections         -unknown-                  -unknown-                            iPhone       29205.0\n",
       "5888351   iwg6bh8olg  request_new_confirm_email             click  request_new_confirm_email                   Windows Desktop         784.0\n",
       "7842533   ofh9pizdf6                    reviews              data               user_reviews                     Android Phone       17699.0\n",
       "4973202   etwysx4eea                       show              view                         p3                            iPhone      100950.0\n",
       "10420704  7hyy9umc8j             search_results             click        view_search_results                       Mac Desktop        1267.0\n",
       "1036178   rks84riib9           similar_listings              data           similar_listings                        Chromebook          85.0\n",
       "3854449   vba39jkpmr                       show              view                         p3                   Windows Desktop        6861.0\n",
       "4621980   hsnyuevfyg                personalize              data    wishlist_content_update                   Windows Desktop        1071.0\n",
       "5060702   d57sh0ggdn                impressions              view                         p4                   Windows Desktop       13193.0\n",
       "7355206   b6vkjqwm4d         social_connections              data    user_social_connections                       iPad Tablet          43.0\n",
       "3937348   tzhotk4ddk                collections              view             user_wishlists                     Android Phone       20839.0\n",
       "8079717   vp8ngx09l1                   callback  partner_callback             oauth_response                       Mac Desktop       11152.0\n",
       "10305846  qdopqxdqj8                       show              view                         p3                            iPhone         259.0\n",
       "10533312  96jq9gns0v                       view              view                         p3                     Android Phone       71972.0\n",
       "8634767   2c5sixeukv                personalize              data    wishlist_content_update                       Mac Desktop         721.0\n",
       "6515092   qpejwbj1xj                       show              view                         p3                   Windows Desktop         101.0\n",
       "9192470   spx1ugkuji                       show              view                         p3                   Windows Desktop       79911.0"
      ]
     },
     "execution_count": 23,
     "metadata": {},
     "output_type": "execute_result"
    }
   ],
   "source": [
    "sessions.sample(20)"
   ]
  },
  {
   "cell_type": "code",
   "execution_count": 24,
   "id": "3ec5aebb",
   "metadata": {
    "colab": {
     "base_uri": "https://localhost:8080/"
    },
    "executionInfo": {
     "elapsed": 9,
     "status": "ok",
     "timestamp": 1645448318784,
     "user": {
      "displayName": "Mohamed Ahmed Hassan Abdelmaguid Mohamed",
      "photoUrl": "https://lh3.googleusercontent.com/a-/AOh14Gg7Cz_FAvD0YxWzRP7aQqIpUg-scVtk8zA6OPSSfw=s64",
      "userId": "04245446656493821652"
     },
     "user_tz": -120
    },
    "id": "3ec5aebb",
    "outputId": "15680829-5bb5-47a7-9ad2-bc26155b9322"
   },
   "outputs": [
    {
     "name": "stdout",
     "output_type": "stream",
     "text": [
      "The shape of the data is -> (10567737, 6) \n",
      " \n",
      "<class 'pandas.core.frame.DataFrame'>\n",
      "RangeIndex: 10567737 entries, 0 to 10567736\n",
      "Data columns (total 6 columns):\n",
      " #   Column         Dtype  \n",
      "---  ------         -----  \n",
      " 0   user_id        object \n",
      " 1   action         object \n",
      " 2   action_type    object \n",
      " 3   action_detail  object \n",
      " 4   device_type    object \n",
      " 5   secs_elapsed   float64\n",
      "dtypes: float64(1), object(5)\n",
      "memory usage: 483.8+ MB\n"
     ]
    }
   ],
   "source": [
    "print(\"The shape of the data is -> {} \\n \".format(sessions.shape))\n",
    "sessions.info()"
   ]
  },
  {
   "cell_type": "code",
   "execution_count": 25,
   "id": "d3744edf",
   "metadata": {
    "colab": {
     "base_uri": "https://localhost:8080/",
     "height": 469
    },
    "executionInfo": {
     "elapsed": 2639,
     "status": "ok",
     "timestamp": 1645448321418,
     "user": {
      "displayName": "Mohamed Ahmed Hassan Abdelmaguid Mohamed",
      "photoUrl": "https://lh3.googleusercontent.com/a-/AOh14Gg7Cz_FAvD0YxWzRP7aQqIpUg-scVtk8zA6OPSSfw=s64",
      "userId": "04245446656493821652"
     },
     "user_tz": -120
    },
    "id": "d3744edf",
    "outputId": "20bb4fd5-27c6-4a37-b4c8-1d0679457eae"
   },
   "outputs": [
    {
     "data": {
      "image/png": "[encoded data removed]",
      "text/plain": [
       "<Figure size 720x504 with 1 Axes>"
      ]
     },
     "metadata": {},
     "output_type": "display_data"
    }
   ],
   "source": [
    "missingvalues=pd.DataFrame(sessions.isnull().sum()/len(sessions)).reset_index().rename(columns={\"index\":\"Columns\",0:\"%OfMissingValues\"}).sort_values(by='%OfMissingValues',ascending=False)\n",
    "sns.barplot(x='%OfMissingValues', y='Columns', data=missingvalues[:15],palette='flare');\n",
    "plt.title(\"% Of MissingValues\",fontsize=20);\n",
    "plt.savefig('MissingValues_4_sessions.png')"
   ]
  },
  {
   "cell_type": "code",
   "execution_count": 26,
   "id": "1ff6b8ed",
   "metadata": {
    "colab": {
     "base_uri": "https://localhost:8080/"
    },
    "executionInfo": {
     "elapsed": 3838,
     "status": "ok",
     "timestamp": 1645448325252,
     "user": {
      "displayName": "Mohamed Ahmed Hassan Abdelmaguid Mohamed",
      "photoUrl": "https://lh3.googleusercontent.com/a-/AOh14Gg7Cz_FAvD0YxWzRP7aQqIpUg-scVtk8zA6OPSSfw=s64",
      "userId": "04245446656493821652"
     },
     "user_tz": -120
    },
    "id": "1ff6b8ed",
    "outputId": "16dcff71-4e45-4a5c-8893-7f7a5f63abe5"
   },
   "outputs": [
    {
     "data": {
      "text/plain": [
       "user_id                0\n",
       "action             79480\n",
       "action_type      1122957\n",
       "action_detail    1122957\n",
       "device_type            0\n",
       "secs_elapsed      135483\n",
       "dtype: int64"
      ]
     },
     "execution_count": 26,
     "metadata": {},
     "output_type": "execute_result"
    }
   ],
   "source": [
    "sessions.dropna(subset=['user_id'],inplace=True)\n",
    "sessions.isnull().sum()\n"
   ]
  },
  {
   "cell_type": "markdown",
   "id": "1a329666",
   "metadata": {
    "id": "1a329666"
   },
   "source": [
    "We will drop any row that has no user id, so we can merge sessions with train_users on user_id if we want."
   ]
  },
  {
   "cell_type": "code",
   "execution_count": 27,
   "id": "d55cd1da",
   "metadata": {
    "colab": {
     "base_uri": "https://localhost:8080/"
    },
    "executionInfo": {
     "elapsed": 1112,
     "status": "ok",
     "timestamp": 1645448326359,
     "user": {
      "displayName": "Mohamed Ahmed Hassan Abdelmaguid Mohamed",
      "photoUrl": "https://lh3.googleusercontent.com/a-/AOh14Gg7Cz_FAvD0YxWzRP7aQqIpUg-scVtk8zA6OPSSfw=s64",
      "userId": "04245446656493821652"
     },
     "user_tz": -120
    },
    "id": "d55cd1da",
    "outputId": "c3ff0721-69e9-4c8f-959d-468ed7decdbb"
   },
   "outputs": [
    {
     "data": {
      "text/plain": [
       "Index(['user_id', 'action', 'action_type', 'action_detail', 'device_type', 'secs_elapsed'], dtype='object')"
      ]
     },
     "execution_count": 27,
     "metadata": {},
     "output_type": "execute_result"
    }
   ],
   "source": [
    "sessions.columns"
   ]
  },
  {
   "cell_type": "code",
   "execution_count": 28,
   "id": "b0dda5ff",
   "metadata": {
    "colab": {
     "base_uri": "https://localhost:8080/"
    },
    "executionInfo": {
     "elapsed": 3149,
     "status": "ok",
     "timestamp": 1645448329506,
     "user": {
      "displayName": "Mohamed Ahmed Hassan Abdelmaguid Mohamed",
      "photoUrl": "https://lh3.googleusercontent.com/a-/AOh14Gg7Cz_FAvD0YxWzRP7aQqIpUg-scVtk8zA6OPSSfw=s64",
      "userId": "04245446656493821652"
     },
     "user_tz": -120
    },
    "id": "b0dda5ff",
    "outputId": "0570e109-e1bb-4db9-b743-bcbb8460d542"
   },
   "outputs": [
    {
     "name": "stdout",
     "output_type": "stream",
     "text": [
      "The length uniques values of -action- is 360\n",
      "\n",
      "-------------------------------------------------------------------------------\n",
      "The length uniques values of -action_type- is 11\n",
      "\n",
      "-------------------------------------------------------------------------------\n",
      "The length uniques values of -action_detail- is 156\n",
      "\n",
      "-------------------------------------------------------------------------------\n",
      "The length uniques values of -device_type- is 14\n",
      "\n",
      "-------------------------------------------------------------------------------\n"
     ]
    }
   ],
   "source": [
    "#Let us see the length of uniques values for the sessions dataset\n",
    "for i in ['action', 'action_type', 'action_detail', 'device_type']:\n",
    "    print(\"The length uniques values of -{}-\".format(i), \"is {}\\n\".format(len(set(sessions[i]))))\n",
    "    print(\"-------------------------------------------------------------------------------\")\n",
    "    "
   ]
  },
  {
   "cell_type": "markdown",
   "id": "dd31a980",
   "metadata": {
    "id": "dd31a980"
   },
   "source": [
    "**Action, Action type, Action detail**"
   ]
  },
  {
   "cell_type": "code",
   "execution_count": 29,
   "id": "55fdcea7",
   "metadata": {
    "colab": {
     "base_uri": "https://localhost:8080/"
    },
    "executionInfo": {
     "elapsed": 292,
     "status": "ok",
     "timestamp": 1645448330287,
     "user": {
      "displayName": "Mohamed Ahmed Hassan Abdelmaguid Mohamed",
      "photoUrl": "https://lh3.googleusercontent.com/a-/AOh14Gg7Cz_FAvD0YxWzRP7aQqIpUg-scVtk8zA6OPSSfw=s64",
      "userId": "04245446656493821652"
     },
     "user_tz": -120
    },
    "id": "55fdcea7",
    "outputId": "a1380dbc-fcd3-458a-ac80-190bff105292",
    "scrolled": true
   },
   "outputs": [
    {
     "data": {
      "text/plain": [
       "show                     2758985\n",
       "index                     841071\n",
       "search_results            723124\n",
       "personalize               704782\n",
       "search                    533833\n",
       "ajax_refresh_subtotal     486414\n",
       "similar_listings          363423\n",
       "update                    362708\n",
       "social_connections        337764\n",
       "reviews                   319318\n",
       "Name: action, dtype: int64"
      ]
     },
     "execution_count": 29,
     "metadata": {},
     "output_type": "execute_result"
    }
   ],
   "source": [
    "sessions['action'].value_counts().head(10)\n"
   ]
  },
  {
   "cell_type": "code",
   "execution_count": 30,
   "id": "23c08033",
   "metadata": {
    "colab": {
     "base_uri": "https://localhost:8080/"
    },
    "executionInfo": {
     "elapsed": 1073,
     "status": "ok",
     "timestamp": 1645448331777,
     "user": {
      "displayName": "Mohamed Ahmed Hassan Abdelmaguid Mohamed",
      "photoUrl": "https://lh3.googleusercontent.com/a-/AOh14Gg7Cz_FAvD0YxWzRP7aQqIpUg-scVtk8zA6OPSSfw=s64",
      "userId": "04245446656493821652"
     },
     "user_tz": -120
    },
    "id": "23c08033",
    "outputId": "42ca364a-8860-4e42-c25e-5f34dd6bca96"
   },
   "outputs": [
    {
     "data": {
      "text/plain": [
       "view                3549375\n",
       "data                2096655\n",
       "click               1990058\n",
       "-unknown-           1028251\n",
       "submit               620063\n",
       "message_post          86925\n",
       "partner_callback      19053\n",
       "booking_request       18762\n",
       "modify                 1138\n",
       "booking_response          4\n",
       "Name: action_type, dtype: int64"
      ]
     },
     "execution_count": 30,
     "metadata": {},
     "output_type": "execute_result"
    }
   ],
   "source": [
    "sessions['action_type'].value_counts().head(10)"
   ]
  },
  {
   "cell_type": "code",
   "execution_count": 31,
   "id": "59eb8f01",
   "metadata": {
    "colab": {
     "base_uri": "https://localhost:8080/"
    },
    "executionInfo": {
     "elapsed": 5,
     "status": "ok",
     "timestamp": 1645448331778,
     "user": {
      "displayName": "Mohamed Ahmed Hassan Abdelmaguid Mohamed",
      "photoUrl": "https://lh3.googleusercontent.com/a-/AOh14Gg7Cz_FAvD0YxWzRP7aQqIpUg-scVtk8zA6OPSSfw=s64",
      "userId": "04245446656493821652"
     },
     "user_tz": -120
    },
    "id": "59eb8f01",
    "outputId": "29adf2c0-f1d4-4168-dd1e-27144282229c"
   },
   "outputs": [
    {
     "data": {
      "text/plain": [
       "view_search_results            1771026\n",
       "p3                             1371626\n",
       "-unknown-                      1028222\n",
       "wishlist_content_update         704782\n",
       "user_profile                    654626\n",
       "change_trip_characteristics     486414\n",
       "similar_listings                363423\n",
       "user_social_connections         335577\n",
       "listing_reviews                 267991\n",
       "update_listing                  267776\n",
       "Name: action_detail, dtype: int64"
      ]
     },
     "execution_count": 31,
     "metadata": {},
     "output_type": "execute_result"
    }
   ],
   "source": [
    "sessions['action_detail'].value_counts().head(10)\n"
   ]
  },
  {
   "cell_type": "markdown",
   "id": "9b509824",
   "metadata": {
    "id": "9b509824"
   },
   "source": [
    "I can not see any important information can these features give to solve the problem, so will skip it for now.\n"
   ]
  },
  {
   "cell_type": "markdown",
   "id": "52606876",
   "metadata": {
    "id": "52606876"
   },
   "source": [
    "**Device type**"
   ]
  },
  {
   "cell_type": "code",
   "execution_count": 32,
   "id": "d4e32942",
   "metadata": {
    "colab": {
     "base_uri": "https://localhost:8080/"
    },
    "executionInfo": {
     "elapsed": 322,
     "status": "ok",
     "timestamp": 1645448332535,
     "user": {
      "displayName": "Mohamed Ahmed Hassan Abdelmaguid Mohamed",
      "photoUrl": "https://lh3.googleusercontent.com/a-/AOh14Gg7Cz_FAvD0YxWzRP7aQqIpUg-scVtk8zA6OPSSfw=s64",
      "userId": "04245446656493821652"
     },
     "user_tz": -120
    },
    "id": "d4e32942",
    "outputId": "00744fa5-6146-4743-8d32-84517fb512a8"
   },
   "outputs": [
    {
     "data": {
      "text/plain": [
       "Mac Desktop                         0.340435\n",
       "Windows Desktop                     0.251444\n",
       "iPhone                              0.199060\n",
       "Android Phone                       0.079367\n",
       "iPad Tablet                         0.064732\n",
       "Android App Unknown Phone/Tablet    0.025901\n",
       "-unknown-                           0.019942\n",
       "Tablet                              0.013278\n",
       "Linux Desktop                       0.002655\n",
       "Chromebook                          0.002114\n",
       "iPodtouch                           0.000777\n",
       "Windows Phone                       0.000194\n",
       "Blackberry                          0.000093\n",
       "Opera Phone                         0.000006\n",
       "Name: device_type, dtype: float64"
      ]
     },
     "execution_count": 32,
     "metadata": {},
     "output_type": "execute_result"
    }
   ],
   "source": [
    "sessions['device_type'].value_counts()/len(sessions['device_type'])"
   ]
  },
  {
   "cell_type": "markdown",
   "id": "e9de15a5",
   "metadata": {
    "id": "e9de15a5"
   },
   "source": [
    "We checked before that if there were missing values in device_type and we did not find it, but notice when we print sample of the dataset there values in device_type have **-unknown-** value, we need to replace with NaN."
   ]
  },
  {
   "cell_type": "code",
   "execution_count": 33,
   "id": "67b2e73d",
   "metadata": {
    "executionInfo": {
     "elapsed": 784,
     "status": "ok",
     "timestamp": 1645448333316,
     "user": {
      "displayName": "Mohamed Ahmed Hassan Abdelmaguid Mohamed",
      "photoUrl": "https://lh3.googleusercontent.com/a-/AOh14Gg7Cz_FAvD0YxWzRP7aQqIpUg-scVtk8zA6OPSSfw=s64",
      "userId": "04245446656493821652"
     },
     "user_tz": -120
    },
    "id": "67b2e73d"
   },
   "outputs": [],
   "source": [
    "sessions['device_type'].replace('-unknown-', np.nan,inplace=True)\n",
    "sessions['action_detail'].replace('-unknown-', np.nan,inplace=True)\n",
    "sessions['action_type'].replace('-unknown-', np.nan,inplace=True)\n"
   ]
  },
  {
   "cell_type": "code",
   "execution_count": 34,
   "id": "cbf8774b",
   "metadata": {
    "colab": {
     "base_uri": "https://localhost:8080/"
    },
    "executionInfo": {
     "elapsed": 2303,
     "status": "ok",
     "timestamp": 1645448335617,
     "user": {
      "displayName": "Mohamed Ahmed Hassan Abdelmaguid Mohamed",
      "photoUrl": "https://lh3.googleusercontent.com/a-/AOh14Gg7Cz_FAvD0YxWzRP7aQqIpUg-scVtk8zA6OPSSfw=s64",
      "userId": "04245446656493821652"
     },
     "user_tz": -120
    },
    "id": "cbf8774b",
    "outputId": "08356495-1221-4aee-8d13-31a6d76eed44"
   },
   "outputs": [
    {
     "data": {
      "text/plain": [
       "user_id          0.000000\n",
       "action           0.007546\n",
       "action_type      0.204230\n",
       "action_detail    0.204228\n",
       "device_type      0.019942\n",
       "secs_elapsed     0.012862\n",
       "dtype: float64"
      ]
     },
     "execution_count": 34,
     "metadata": {},
     "output_type": "execute_result"
    }
   ],
   "source": [
    "sessions.isnull().sum()/len(sessions)"
   ]
  },
  {
   "cell_type": "markdown",
   "id": "0c9fd402",
   "metadata": {
    "id": "0c9fd402"
   },
   "source": [
    "We do not know if we will use this dataset when we apply machine learning or not so we will leave it for now."
   ]
  },
  {
   "cell_type": "markdown",
   "id": "422844c6",
   "metadata": {
    "id": "422844c6"
   },
   "source": [
    "**Secs Elapsed**\n"
   ]
  },
  {
   "cell_type": "code",
   "execution_count": 35,
   "id": "29353ad3",
   "metadata": {
    "colab": {
     "base_uri": "https://localhost:8080/"
    },
    "executionInfo": {
     "elapsed": 445,
     "status": "ok",
     "timestamp": 1645448336060,
     "user": {
      "displayName": "Mohamed Ahmed Hassan Abdelmaguid Mohamed",
      "photoUrl": "https://lh3.googleusercontent.com/a-/AOh14Gg7Cz_FAvD0YxWzRP7aQqIpUg-scVtk8zA6OPSSfw=s64",
      "userId": "04245446656493821652"
     },
     "user_tz": -120
    },
    "id": "29353ad3",
    "outputId": "6c49f2c7-21e7-4ec3-e2c8-c1cf7c230677"
   },
   "outputs": [
    {
     "data": {
      "text/plain": [
       "count    1.039776e+07\n",
       "mean     1.941124e+04\n",
       "std      8.890920e+04\n",
       "min      0.000000e+00\n",
       "25%      2.290000e+02\n",
       "50%      1.146000e+03\n",
       "75%      8.442000e+03\n",
       "max      1.799977e+06\n",
       "Name: secs_elapsed, dtype: float64"
      ]
     },
     "execution_count": 35,
     "metadata": {},
     "output_type": "execute_result"
    }
   ],
   "source": [
    "sessions['secs_elapsed'].describe()"
   ]
  },
  {
   "cell_type": "code",
   "execution_count": 36,
   "id": "0cd39316",
   "metadata": {
    "colab": {
     "base_uri": "https://localhost:8080/"
    },
    "executionInfo": {
     "elapsed": 5,
     "status": "ok",
     "timestamp": 1645448336061,
     "user": {
      "displayName": "Mohamed Ahmed Hassan Abdelmaguid Mohamed",
      "photoUrl": "https://lh3.googleusercontent.com/a-/AOh14Gg7Cz_FAvD0YxWzRP7aQqIpUg-scVtk8zA6OPSSfw=s64",
      "userId": "04245446656493821652"
     },
     "user_tz": -120
    },
    "id": "0cd39316",
    "outputId": "da1d87ea-baac-4a84-b3c1-36ab4074bf13"
   },
   "outputs": [
    {
     "data": {
      "text/plain": [
       "0.012862422876301795"
      ]
     },
     "execution_count": 36,
     "metadata": {},
     "output_type": "execute_result"
    }
   ],
   "source": [
    "sessions['secs_elapsed'].isnull().sum()/len(sessions)"
   ]
  },
  {
   "cell_type": "code",
   "execution_count": 37,
   "id": "b554d3cd",
   "metadata": {
    "colab": {
     "base_uri": "https://localhost:8080/",
     "height": 300
    },
    "executionInfo": {
     "elapsed": 2213,
     "status": "ok",
     "timestamp": 1645448338270,
     "user": {
      "displayName": "Mohamed Ahmed Hassan Abdelmaguid Mohamed",
      "photoUrl": "https://lh3.googleusercontent.com/a-/AOh14Gg7Cz_FAvD0YxWzRP7aQqIpUg-scVtk8zA6OPSSfw=s64",
      "userId": "04245446656493821652"
     },
     "user_tz": -120
    },
    "id": "b554d3cd",
    "outputId": "5922c4b5-00cc-4747-845a-4ab7ab1183ab"
   },
   "outputs": [
    {
     "data": {
      "text/html": [
       "<div>\n",
       "<style scoped>\n",
       "    .dataframe tbody tr th:only-of-type {\n",
       "        vertical-align: middle;\n",
       "    }\n",
       "\n",
       "    .dataframe tbody tr th {\n",
       "        vertical-align: top;\n",
       "    }\n",
       "\n",
       "    .dataframe thead th {\n",
       "        text-align: right;\n",
       "    }\n",
       "</style>\n",
       "<table border=\"1\" class=\"dataframe\">\n",
       "  <thead>\n",
       "    <tr style=\"text-align: right;\">\n",
       "      <th></th>\n",
       "      <th>secs_elapsed</th>\n",
       "      <th>secs_elapsed_fillna_with_median</th>\n",
       "      <th>secs_elapsed_fillna_with_mean</th>\n",
       "    </tr>\n",
       "  </thead>\n",
       "  <tbody>\n",
       "    <tr>\n",
       "      <th>count</th>\n",
       "      <td>1.039776e+07</td>\n",
       "      <td>1.053324e+07</td>\n",
       "      <td>1.053324e+07</td>\n",
       "    </tr>\n",
       "    <tr>\n",
       "      <th>mean</th>\n",
       "      <td>1.941124e+04</td>\n",
       "      <td>1.917631e+04</td>\n",
       "      <td>1.941124e+04</td>\n",
       "    </tr>\n",
       "    <tr>\n",
       "      <th>std</th>\n",
       "      <td>8.890920e+04</td>\n",
       "      <td>8.835953e+04</td>\n",
       "      <td>8.833556e+04</td>\n",
       "    </tr>\n",
       "    <tr>\n",
       "      <th>min</th>\n",
       "      <td>0.000000e+00</td>\n",
       "      <td>0.000000e+00</td>\n",
       "      <td>0.000000e+00</td>\n",
       "    </tr>\n",
       "    <tr>\n",
       "      <th>25%</th>\n",
       "      <td>2.290000e+02</td>\n",
       "      <td>2.370000e+02</td>\n",
       "      <td>2.370000e+02</td>\n",
       "    </tr>\n",
       "    <tr>\n",
       "      <th>50%</th>\n",
       "      <td>1.146000e+03</td>\n",
       "      <td>1.146000e+03</td>\n",
       "      <td>1.188000e+03</td>\n",
       "    </tr>\n",
       "    <tr>\n",
       "      <th>75%</th>\n",
       "      <td>8.442000e+03</td>\n",
       "      <td>8.191000e+03</td>\n",
       "      <td>9.225000e+03</td>\n",
       "    </tr>\n",
       "    <tr>\n",
       "      <th>max</th>\n",
       "      <td>1.799977e+06</td>\n",
       "      <td>1.799977e+06</td>\n",
       "      <td>1.799977e+06</td>\n",
       "    </tr>\n",
       "  </tbody>\n",
       "</table>\n",
       "</div>"
      ],
      "text/plain": [
       "       secs_elapsed  secs_elapsed_fillna_with_median  secs_elapsed_fillna_with_mean\n",
       "count  1.039776e+07                     1.053324e+07                   1.053324e+07\n",
       "mean   1.941124e+04                     1.917631e+04                   1.941124e+04\n",
       "std    8.890920e+04                     8.835953e+04                   8.833556e+04\n",
       "min    0.000000e+00                     0.000000e+00                   0.000000e+00\n",
       "25%    2.290000e+02                     2.370000e+02                   2.370000e+02\n",
       "50%    1.146000e+03                     1.146000e+03                   1.188000e+03\n",
       "75%    8.442000e+03                     8.191000e+03                   9.225000e+03\n",
       "max    1.799977e+06                     1.799977e+06                   1.799977e+06"
      ]
     },
     "execution_count": 37,
     "metadata": {},
     "output_type": "execute_result"
    }
   ],
   "source": [
    "# We will try fill NaN with mean and medien and see which better\n",
    "median_sessions=sessions['secs_elapsed'].median()\n",
    "mean_sessions=sessions['secs_elapsed'].mean()\n",
    "sessions['secs_elapsed_fillna_with_median'] = sessions['secs_elapsed'].fillna(median_sessions)\n",
    "sessions['secs_elapsed_fillna_with_mean'] = sessions['secs_elapsed'].fillna(mean_sessions)\n",
    "sessions[['secs_elapsed','secs_elapsed_fillna_with_median','secs_elapsed_fillna_with_mean']].describe()"
   ]
  },
  {
   "cell_type": "markdown",
   "id": "1e9cd78d",
   "metadata": {
    "id": "1e9cd78d"
   },
   "source": [
    "As we can see above, filling in the missing values with the **median is better**, because there are **no significant changes** in the **summary of statistics**."
   ]
  },
  {
   "cell_type": "markdown",
   "id": "b8e5ba44",
   "metadata": {
    "id": "b8e5ba44"
   },
   "source": [
    "### Let us work with the Training Users¶ dataset"
   ]
  },
  {
   "cell_type": "code",
   "execution_count": 38,
   "id": "1b7ba270",
   "metadata": {
    "colab": {
     "base_uri": "https://localhost:8080/",
     "height": 740
    },
    "executionInfo": {
     "elapsed": 307,
     "status": "ok",
     "timestamp": 1645449666458,
     "user": {
      "displayName": "Mohamed Ahmed Hassan Abdelmaguid Mohamed",
      "photoUrl": "https://lh3.googleusercontent.com/a-/AOh14Gg7Cz_FAvD0YxWzRP7aQqIpUg-scVtk8zA6OPSSfw=s64",
      "userId": "04245446656493821652"
     },
     "user_tz": -120
    },
    "id": "1b7ba270",
    "outputId": "9c1e7b36-4e70-483b-a041-92fe2e2d7c90"
   },
   "outputs": [
    {
     "data": {
      "text/html": [
       "<div>\n",
       "<style scoped>\n",
       "    .dataframe tbody tr th:only-of-type {\n",
       "        vertical-align: middle;\n",
       "    }\n",
       "\n",
       "    .dataframe tbody tr th {\n",
       "        vertical-align: top;\n",
       "    }\n",
       "\n",
       "    .dataframe thead th {\n",
       "        text-align: right;\n",
       "    }\n",
       "</style>\n",
       "<table border=\"1\" class=\"dataframe\">\n",
       "  <thead>\n",
       "    <tr style=\"text-align: right;\">\n",
       "      <th></th>\n",
       "      <th>id</th>\n",
       "      <th>date_account_created</th>\n",
       "      <th>timestamp_first_active</th>\n",
       "      <th>date_first_booking</th>\n",
       "      <th>gender</th>\n",
       "      <th>age</th>\n",
       "      <th>signup_method</th>\n",
       "      <th>signup_flow</th>\n",
       "      <th>language</th>\n",
       "      <th>affiliate_channel</th>\n",
       "      <th>affiliate_provider</th>\n",
       "      <th>first_affiliate_tracked</th>\n",
       "      <th>signup_app</th>\n",
       "      <th>first_device_type</th>\n",
       "      <th>first_browser</th>\n",
       "      <th>country_destination</th>\n",
       "    </tr>\n",
       "  </thead>\n",
       "  <tbody>\n",
       "    <tr>\n",
       "      <th>142200</th>\n",
       "      <td>k3yo181x0g</td>\n",
       "      <td>2014-01-15</td>\n",
       "      <td>20140115195307</td>\n",
       "      <td>NaN</td>\n",
       "      <td>-unknown-</td>\n",
       "      <td>NaN</td>\n",
       "      <td>basic</td>\n",
       "      <td>0</td>\n",
       "      <td>en</td>\n",
       "      <td>direct</td>\n",
       "      <td>direct</td>\n",
       "      <td>untracked</td>\n",
       "      <td>Web</td>\n",
       "      <td>Windows Desktop</td>\n",
       "      <td>IE</td>\n",
       "      <td>NDF</td>\n",
       "    </tr>\n",
       "    <tr>\n",
       "      <th>86764</th>\n",
       "      <td>kral3clqwg</td>\n",
       "      <td>2013-06-26</td>\n",
       "      <td>20130626225020</td>\n",
       "      <td>2013-06-27</td>\n",
       "      <td>FEMALE</td>\n",
       "      <td>39.0</td>\n",
       "      <td>basic</td>\n",
       "      <td>0</td>\n",
       "      <td>en</td>\n",
       "      <td>direct</td>\n",
       "      <td>direct</td>\n",
       "      <td>untracked</td>\n",
       "      <td>Web</td>\n",
       "      <td>Windows Desktop</td>\n",
       "      <td>Firefox</td>\n",
       "      <td>US</td>\n",
       "    </tr>\n",
       "    <tr>\n",
       "      <th>43280</th>\n",
       "      <td>rk5ccybmgd</td>\n",
       "      <td>2012-10-02</td>\n",
       "      <td>20121002171035</td>\n",
       "      <td>NaN</td>\n",
       "      <td>FEMALE</td>\n",
       "      <td>34.0</td>\n",
       "      <td>facebook</td>\n",
       "      <td>0</td>\n",
       "      <td>en</td>\n",
       "      <td>direct</td>\n",
       "      <td>direct</td>\n",
       "      <td>linked</td>\n",
       "      <td>Web</td>\n",
       "      <td>Mac Desktop</td>\n",
       "      <td>Chrome</td>\n",
       "      <td>NDF</td>\n",
       "    </tr>\n",
       "    <tr>\n",
       "      <th>43501</th>\n",
       "      <td>ekgbxggesa</td>\n",
       "      <td>2012-10-04</td>\n",
       "      <td>20121004004124</td>\n",
       "      <td>2012-10-05</td>\n",
       "      <td>FEMALE</td>\n",
       "      <td>NaN</td>\n",
       "      <td>basic</td>\n",
       "      <td>0</td>\n",
       "      <td>en</td>\n",
       "      <td>direct</td>\n",
       "      <td>direct</td>\n",
       "      <td>untracked</td>\n",
       "      <td>Web</td>\n",
       "      <td>Mac Desktop</td>\n",
       "      <td>Chrome</td>\n",
       "      <td>US</td>\n",
       "    </tr>\n",
       "    <tr>\n",
       "      <th>153692</th>\n",
       "      <td>kno1y58ygo</td>\n",
       "      <td>2014-02-17</td>\n",
       "      <td>20140217032948</td>\n",
       "      <td>NaN</td>\n",
       "      <td>-unknown-</td>\n",
       "      <td>NaN</td>\n",
       "      <td>basic</td>\n",
       "      <td>25</td>\n",
       "      <td>en</td>\n",
       "      <td>direct</td>\n",
       "      <td>direct</td>\n",
       "      <td>untracked</td>\n",
       "      <td>iOS</td>\n",
       "      <td>iPhone</td>\n",
       "      <td>-unknown-</td>\n",
       "      <td>NDF</td>\n",
       "    </tr>\n",
       "    <tr>\n",
       "      <th>70331</th>\n",
       "      <td>d5swhjee2s</td>\n",
       "      <td>2013-04-11</td>\n",
       "      <td>20130411034546</td>\n",
       "      <td>NaN</td>\n",
       "      <td>MALE</td>\n",
       "      <td>35.0</td>\n",
       "      <td>facebook</td>\n",
       "      <td>0</td>\n",
       "      <td>en</td>\n",
       "      <td>direct</td>\n",
       "      <td>direct</td>\n",
       "      <td>untracked</td>\n",
       "      <td>Web</td>\n",
       "      <td>Windows Desktop</td>\n",
       "      <td>IE</td>\n",
       "      <td>NDF</td>\n",
       "    </tr>\n",
       "    <tr>\n",
       "      <th>149046</th>\n",
       "      <td>dmpkfnd60l</td>\n",
       "      <td>2014-02-04</td>\n",
       "      <td>20140204022638</td>\n",
       "      <td>NaN</td>\n",
       "      <td>-unknown-</td>\n",
       "      <td>NaN</td>\n",
       "      <td>basic</td>\n",
       "      <td>0</td>\n",
       "      <td>en</td>\n",
       "      <td>sem-brand</td>\n",
       "      <td>google</td>\n",
       "      <td>omg</td>\n",
       "      <td>Web</td>\n",
       "      <td>Windows Desktop</td>\n",
       "      <td>Chrome</td>\n",
       "      <td>NDF</td>\n",
       "    </tr>\n",
       "    <tr>\n",
       "      <th>112487</th>\n",
       "      <td>0c0jicfyl3</td>\n",
       "      <td>2013-09-29</td>\n",
       "      <td>20130929185550</td>\n",
       "      <td>2013-10-01</td>\n",
       "      <td>FEMALE</td>\n",
       "      <td>50.0</td>\n",
       "      <td>basic</td>\n",
       "      <td>0</td>\n",
       "      <td>en</td>\n",
       "      <td>sem-brand</td>\n",
       "      <td>google</td>\n",
       "      <td>linked</td>\n",
       "      <td>Web</td>\n",
       "      <td>Mac Desktop</td>\n",
       "      <td>Safari</td>\n",
       "      <td>US</td>\n",
       "    </tr>\n",
       "    <tr>\n",
       "      <th>59967</th>\n",
       "      <td>jh5npswx7b</td>\n",
       "      <td>2013-02-11</td>\n",
       "      <td>20130211050729</td>\n",
       "      <td>NaN</td>\n",
       "      <td>-unknown-</td>\n",
       "      <td>NaN</td>\n",
       "      <td>basic</td>\n",
       "      <td>0</td>\n",
       "      <td>en</td>\n",
       "      <td>sem-non-brand</td>\n",
       "      <td>google</td>\n",
       "      <td>omg</td>\n",
       "      <td>Web</td>\n",
       "      <td>Windows Desktop</td>\n",
       "      <td>Firefox</td>\n",
       "      <td>NDF</td>\n",
       "    </tr>\n",
       "    <tr>\n",
       "      <th>35418</th>\n",
       "      <td>radu92ydm5</td>\n",
       "      <td>2012-08-07</td>\n",
       "      <td>20120807154608</td>\n",
       "      <td>NaN</td>\n",
       "      <td>FEMALE</td>\n",
       "      <td>NaN</td>\n",
       "      <td>basic</td>\n",
       "      <td>0</td>\n",
       "      <td>en</td>\n",
       "      <td>direct</td>\n",
       "      <td>direct</td>\n",
       "      <td>linked</td>\n",
       "      <td>Web</td>\n",
       "      <td>Mac Desktop</td>\n",
       "      <td>Safari</td>\n",
       "      <td>NDF</td>\n",
       "    </tr>\n",
       "    <tr>\n",
       "      <th>162404</th>\n",
       "      <td>phqqzsrary</td>\n",
       "      <td>2014-03-12</td>\n",
       "      <td>20140312172632</td>\n",
       "      <td>NaN</td>\n",
       "      <td>-unknown-</td>\n",
       "      <td>NaN</td>\n",
       "      <td>basic</td>\n",
       "      <td>0</td>\n",
       "      <td>en</td>\n",
       "      <td>direct</td>\n",
       "      <td>direct</td>\n",
       "      <td>untracked</td>\n",
       "      <td>Web</td>\n",
       "      <td>Windows Desktop</td>\n",
       "      <td>Firefox</td>\n",
       "      <td>NDF</td>\n",
       "    </tr>\n",
       "    <tr>\n",
       "      <th>195652</th>\n",
       "      <td>2ihjjcouxx</td>\n",
       "      <td>2014-05-27</td>\n",
       "      <td>20140527205207</td>\n",
       "      <td>NaN</td>\n",
       "      <td>-unknown-</td>\n",
       "      <td>NaN</td>\n",
       "      <td>basic</td>\n",
       "      <td>0</td>\n",
       "      <td>zh</td>\n",
       "      <td>direct</td>\n",
       "      <td>direct</td>\n",
       "      <td>untracked</td>\n",
       "      <td>Web</td>\n",
       "      <td>Mac Desktop</td>\n",
       "      <td>Safari</td>\n",
       "      <td>NDF</td>\n",
       "    </tr>\n",
       "    <tr>\n",
       "      <th>24450</th>\n",
       "      <td>86gex0i8rl</td>\n",
       "      <td>2012-05-16</td>\n",
       "      <td>20120516222526</td>\n",
       "      <td>2013-05-14</td>\n",
       "      <td>FEMALE</td>\n",
       "      <td>44.0</td>\n",
       "      <td>facebook</td>\n",
       "      <td>0</td>\n",
       "      <td>en</td>\n",
       "      <td>other</td>\n",
       "      <td>craigslist</td>\n",
       "      <td>tracked-other</td>\n",
       "      <td>Web</td>\n",
       "      <td>Mac Desktop</td>\n",
       "      <td>Safari</td>\n",
       "      <td>US</td>\n",
       "    </tr>\n",
       "    <tr>\n",
       "      <th>75018</th>\n",
       "      <td>fnnc7pg5gh</td>\n",
       "      <td>2013-05-05</td>\n",
       "      <td>20130505182809</td>\n",
       "      <td>NaN</td>\n",
       "      <td>-unknown-</td>\n",
       "      <td>NaN</td>\n",
       "      <td>basic</td>\n",
       "      <td>0</td>\n",
       "      <td>en</td>\n",
       "      <td>content</td>\n",
       "      <td>gsp</td>\n",
       "      <td>omg</td>\n",
       "      <td>Web</td>\n",
       "      <td>Windows Desktop</td>\n",
       "      <td>Chrome</td>\n",
       "      <td>NDF</td>\n",
       "    </tr>\n",
       "    <tr>\n",
       "      <th>47213</th>\n",
       "      <td>kewmorkdc7</td>\n",
       "      <td>2012-11-03</td>\n",
       "      <td>20121103221647</td>\n",
       "      <td>NaN</td>\n",
       "      <td>-unknown-</td>\n",
       "      <td>NaN</td>\n",
       "      <td>basic</td>\n",
       "      <td>0</td>\n",
       "      <td>en</td>\n",
       "      <td>sem-non-brand</td>\n",
       "      <td>google</td>\n",
       "      <td>untracked</td>\n",
       "      <td>Web</td>\n",
       "      <td>Mac Desktop</td>\n",
       "      <td>Safari</td>\n",
       "      <td>NDF</td>\n",
       "    </tr>\n",
       "    <tr>\n",
       "      <th>104858</th>\n",
       "      <td>n1hc6jl5nh</td>\n",
       "      <td>2013-09-04</td>\n",
       "      <td>20130904080729</td>\n",
       "      <td>2014-05-14</td>\n",
       "      <td>FEMALE</td>\n",
       "      <td>28.0</td>\n",
       "      <td>facebook</td>\n",
       "      <td>0</td>\n",
       "      <td>fr</td>\n",
       "      <td>seo</td>\n",
       "      <td>facebook</td>\n",
       "      <td>linked</td>\n",
       "      <td>Web</td>\n",
       "      <td>Mac Desktop</td>\n",
       "      <td>Safari</td>\n",
       "      <td>ES</td>\n",
       "    </tr>\n",
       "    <tr>\n",
       "      <th>165845</th>\n",
       "      <td>vj8dzo6kj9</td>\n",
       "      <td>2014-03-21</td>\n",
       "      <td>20140321034655</td>\n",
       "      <td>NaN</td>\n",
       "      <td>-unknown-</td>\n",
       "      <td>NaN</td>\n",
       "      <td>basic</td>\n",
       "      <td>0</td>\n",
       "      <td>en</td>\n",
       "      <td>direct</td>\n",
       "      <td>direct</td>\n",
       "      <td>untracked</td>\n",
       "      <td>Web</td>\n",
       "      <td>iPad</td>\n",
       "      <td>Mobile Safari</td>\n",
       "      <td>NDF</td>\n",
       "    </tr>\n",
       "    <tr>\n",
       "      <th>111103</th>\n",
       "      <td>3h8afsogea</td>\n",
       "      <td>2013-09-25</td>\n",
       "      <td>20130925042006</td>\n",
       "      <td>2013-09-25</td>\n",
       "      <td>-unknown-</td>\n",
       "      <td>NaN</td>\n",
       "      <td>basic</td>\n",
       "      <td>0</td>\n",
       "      <td>en</td>\n",
       "      <td>sem-brand</td>\n",
       "      <td>google</td>\n",
       "      <td>omg</td>\n",
       "      <td>Web</td>\n",
       "      <td>Mac Desktop</td>\n",
       "      <td>Safari</td>\n",
       "      <td>US</td>\n",
       "    </tr>\n",
       "    <tr>\n",
       "      <th>162646</th>\n",
       "      <td>p5dlohqthb</td>\n",
       "      <td>2014-03-13</td>\n",
       "      <td>20140313024354</td>\n",
       "      <td>2014-03-13</td>\n",
       "      <td>-unknown-</td>\n",
       "      <td>NaN</td>\n",
       "      <td>basic</td>\n",
       "      <td>0</td>\n",
       "      <td>en</td>\n",
       "      <td>direct</td>\n",
       "      <td>direct</td>\n",
       "      <td>untracked</td>\n",
       "      <td>Web</td>\n",
       "      <td>Mac Desktop</td>\n",
       "      <td>Safari</td>\n",
       "      <td>US</td>\n",
       "    </tr>\n",
       "    <tr>\n",
       "      <th>118610</th>\n",
       "      <td>t8w0989p67</td>\n",
       "      <td>2013-10-22</td>\n",
       "      <td>20131022044926</td>\n",
       "      <td>2013-10-22</td>\n",
       "      <td>MALE</td>\n",
       "      <td>42.0</td>\n",
       "      <td>basic</td>\n",
       "      <td>0</td>\n",
       "      <td>en</td>\n",
       "      <td>direct</td>\n",
       "      <td>direct</td>\n",
       "      <td>linked</td>\n",
       "      <td>Web</td>\n",
       "      <td>Desktop (Other)</td>\n",
       "      <td>-unknown-</td>\n",
       "      <td>US</td>\n",
       "    </tr>\n",
       "  </tbody>\n",
       "</table>\n",
       "</div>"
      ],
      "text/plain": [
       "                id date_account_created  timestamp_first_active date_first_booking     gender   age signup_method  signup_flow language affiliate_channel affiliate_provider first_affiliate_tracked signup_app first_device_type  first_browser country_destination\n",
       "142200  k3yo181x0g           2014-01-15          20140115195307                NaN  -unknown-   NaN         basic            0       en            direct             direct               untracked        Web   Windows Desktop             IE                 NDF\n",
       "86764   kral3clqwg           2013-06-26          20130626225020         2013-06-27     FEMALE  39.0         basic            0       en            direct             direct               untracked        Web   Windows Desktop        Firefox                  US\n",
       "43280   rk5ccybmgd           2012-10-02          20121002171035                NaN     FEMALE  34.0      facebook            0       en            direct             direct                  linked        Web       Mac Desktop         Chrome                 NDF\n",
       "43501   ekgbxggesa           2012-10-04          20121004004124         2012-10-05     FEMALE   NaN         basic            0       en            direct             direct               untracked        Web       Mac Desktop         Chrome                  US\n",
       "153692  kno1y58ygo           2014-02-17          20140217032948                NaN  -unknown-   NaN         basic           25       en            direct             direct               untracked        iOS            iPhone      -unknown-                 NDF\n",
       "70331   d5swhjee2s           2013-04-11          20130411034546                NaN       MALE  35.0      facebook            0       en            direct             direct               untracked        Web   Windows Desktop             IE                 NDF\n",
       "149046  dmpkfnd60l           2014-02-04          20140204022638                NaN  -unknown-   NaN         basic            0       en         sem-brand             google                     omg        Web   Windows Desktop         Chrome                 NDF\n",
       "112487  0c0jicfyl3           2013-09-29          20130929185550         2013-10-01     FEMALE  50.0         basic            0       en         sem-brand             google                  linked        Web       Mac Desktop         Safari                  US\n",
       "59967   jh5npswx7b           2013-02-11          20130211050729                NaN  -unknown-   NaN         basic            0       en     sem-non-brand             google                     omg        Web   Windows Desktop        Firefox                 NDF\n",
       "35418   radu92ydm5           2012-08-07          20120807154608                NaN     FEMALE   NaN         basic            0       en            direct             direct                  linked        Web       Mac Desktop         Safari                 NDF\n",
       "162404  phqqzsrary           2014-03-12          20140312172632                NaN  -unknown-   NaN         basic            0       en            direct             direct               untracked        Web   Windows Desktop        Firefox                 NDF\n",
       "195652  2ihjjcouxx           2014-05-27          20140527205207                NaN  -unknown-   NaN         basic            0       zh            direct             direct               untracked        Web       Mac Desktop         Safari                 NDF\n",
       "24450   86gex0i8rl           2012-05-16          20120516222526         2013-05-14     FEMALE  44.0      facebook            0       en             other         craigslist           tracked-other        Web       Mac Desktop         Safari                  US\n",
       "75018   fnnc7pg5gh           2013-05-05          20130505182809                NaN  -unknown-   NaN         basic            0       en           content                gsp                     omg        Web   Windows Desktop         Chrome                 NDF\n",
       "47213   kewmorkdc7           2012-11-03          20121103221647                NaN  -unknown-   NaN         basic            0       en     sem-non-brand             google               untracked        Web       Mac Desktop         Safari                 NDF\n",
       "104858  n1hc6jl5nh           2013-09-04          20130904080729         2014-05-14     FEMALE  28.0      facebook            0       fr               seo           facebook                  linked        Web       Mac Desktop         Safari                  ES\n",
       "165845  vj8dzo6kj9           2014-03-21          20140321034655                NaN  -unknown-   NaN         basic            0       en            direct             direct               untracked        Web              iPad  Mobile Safari                 NDF\n",
       "111103  3h8afsogea           2013-09-25          20130925042006         2013-09-25  -unknown-   NaN         basic            0       en         sem-brand             google                     omg        Web       Mac Desktop         Safari                  US\n",
       "162646  p5dlohqthb           2014-03-13          20140313024354         2014-03-13  -unknown-   NaN         basic            0       en            direct             direct               untracked        Web       Mac Desktop         Safari                  US\n",
       "118610  t8w0989p67           2013-10-22          20131022044926         2013-10-22       MALE  42.0         basic            0       en            direct             direct                  linked        Web   Desktop (Other)      -unknown-                  US"
      ]
     },
     "execution_count": 38,
     "metadata": {},
     "output_type": "execute_result"
    }
   ],
   "source": [
    "train_users.sample(20)"
   ]
  },
  {
   "cell_type": "code",
   "execution_count": 39,
   "id": "7be821bb",
   "metadata": {
    "colab": {
     "base_uri": "https://localhost:8080/"
    },
    "executionInfo": {
     "elapsed": 13,
     "status": "ok",
     "timestamp": 1645448338271,
     "user": {
      "displayName": "Mohamed Ahmed Hassan Abdelmaguid Mohamed",
      "photoUrl": "https://lh3.googleusercontent.com/a-/AOh14Gg7Cz_FAvD0YxWzRP7aQqIpUg-scVtk8zA6OPSSfw=s64",
      "userId": "04245446656493821652"
     },
     "user_tz": -120
    },
    "id": "7be821bb",
    "outputId": "b536b301-e681-459c-cdc9-1fff1681dc04"
   },
   "outputs": [
    {
     "name": "stdout",
     "output_type": "stream",
     "text": [
      "The shape of the data is -> (213451, 16) \n",
      " \n",
      "<class 'pandas.core.frame.DataFrame'>\n",
      "RangeIndex: 213451 entries, 0 to 213450\n",
      "Data columns (total 16 columns):\n",
      " #   Column                   Non-Null Count   Dtype  \n",
      "---  ------                   --------------   -----  \n",
      " 0   id                       213451 non-null  object \n",
      " 1   date_account_created     213451 non-null  object \n",
      " 2   timestamp_first_active   213451 non-null  int64  \n",
      " 3   date_first_booking       88908 non-null   object \n",
      " 4   gender                   213451 non-null  object \n",
      " 5   age                      125461 non-null  float64\n",
      " 6   signup_method            213451 non-null  object \n",
      " 7   signup_flow              213451 non-null  int64  \n",
      " 8   language                 213451 non-null  object \n",
      " 9   affiliate_channel        213451 non-null  object \n",
      " 10  affiliate_provider       213451 non-null  object \n",
      " 11  first_affiliate_tracked  207386 non-null  object \n",
      " 12  signup_app               213451 non-null  object \n",
      " 13  first_device_type        213451 non-null  object \n",
      " 14  first_browser            213451 non-null  object \n",
      " 15  country_destination      213451 non-null  object \n",
      "dtypes: float64(1), int64(2), object(13)\n",
      "memory usage: 26.1+ MB\n"
     ]
    }
   ],
   "source": [
    "print(\"The shape of the data is -> {} \\n \".format(train_users.shape))\n",
    "train_users.info()"
   ]
  },
  {
   "cell_type": "code",
   "execution_count": 40,
   "id": "9a3e4dc8",
   "metadata": {
    "colab": {
     "base_uri": "https://localhost:8080/",
     "height": 300
    },
    "executionInfo": {
     "elapsed": 10,
     "status": "ok",
     "timestamp": 1645448338271,
     "user": {
      "displayName": "Mohamed Ahmed Hassan Abdelmaguid Mohamed",
      "photoUrl": "https://lh3.googleusercontent.com/a-/AOh14Gg7Cz_FAvD0YxWzRP7aQqIpUg-scVtk8zA6OPSSfw=s64",
      "userId": "04245446656493821652"
     },
     "user_tz": -120
    },
    "id": "9a3e4dc8",
    "outputId": "cd0c7e6a-4a6f-4e5f-81c9-72cf5af5ef98"
   },
   "outputs": [
    {
     "data": {
      "text/html": [
       "<div>\n",
       "<style scoped>\n",
       "    .dataframe tbody tr th:only-of-type {\n",
       "        vertical-align: middle;\n",
       "    }\n",
       "\n",
       "    .dataframe tbody tr th {\n",
       "        vertical-align: top;\n",
       "    }\n",
       "\n",
       "    .dataframe thead th {\n",
       "        text-align: right;\n",
       "    }\n",
       "</style>\n",
       "<table border=\"1\" class=\"dataframe\">\n",
       "  <thead>\n",
       "    <tr style=\"text-align: right;\">\n",
       "      <th></th>\n",
       "      <th>timestamp_first_active</th>\n",
       "      <th>age</th>\n",
       "      <th>signup_flow</th>\n",
       "    </tr>\n",
       "  </thead>\n",
       "  <tbody>\n",
       "    <tr>\n",
       "      <th>count</th>\n",
       "      <td>2.134510e+05</td>\n",
       "      <td>125461.000000</td>\n",
       "      <td>213451.000000</td>\n",
       "    </tr>\n",
       "    <tr>\n",
       "      <th>mean</th>\n",
       "      <td>2.013085e+13</td>\n",
       "      <td>49.668335</td>\n",
       "      <td>3.267387</td>\n",
       "    </tr>\n",
       "    <tr>\n",
       "      <th>std</th>\n",
       "      <td>9.253717e+09</td>\n",
       "      <td>155.666612</td>\n",
       "      <td>7.637707</td>\n",
       "    </tr>\n",
       "    <tr>\n",
       "      <th>min</th>\n",
       "      <td>2.009032e+13</td>\n",
       "      <td>1.000000</td>\n",
       "      <td>0.000000</td>\n",
       "    </tr>\n",
       "    <tr>\n",
       "      <th>25%</th>\n",
       "      <td>2.012123e+13</td>\n",
       "      <td>28.000000</td>\n",
       "      <td>0.000000</td>\n",
       "    </tr>\n",
       "    <tr>\n",
       "      <th>50%</th>\n",
       "      <td>2.013091e+13</td>\n",
       "      <td>34.000000</td>\n",
       "      <td>0.000000</td>\n",
       "    </tr>\n",
       "    <tr>\n",
       "      <th>75%</th>\n",
       "      <td>2.014031e+13</td>\n",
       "      <td>43.000000</td>\n",
       "      <td>0.000000</td>\n",
       "    </tr>\n",
       "    <tr>\n",
       "      <th>max</th>\n",
       "      <td>2.014063e+13</td>\n",
       "      <td>2014.000000</td>\n",
       "      <td>25.000000</td>\n",
       "    </tr>\n",
       "  </tbody>\n",
       "</table>\n",
       "</div>"
      ],
      "text/plain": [
       "       timestamp_first_active            age    signup_flow\n",
       "count            2.134510e+05  125461.000000  213451.000000\n",
       "mean             2.013085e+13      49.668335       3.267387\n",
       "std              9.253717e+09     155.666612       7.637707\n",
       "min              2.009032e+13       1.000000       0.000000\n",
       "25%              2.012123e+13      28.000000       0.000000\n",
       "50%              2.013091e+13      34.000000       0.000000\n",
       "75%              2.014031e+13      43.000000       0.000000\n",
       "max              2.014063e+13    2014.000000      25.000000"
      ]
     },
     "execution_count": 40,
     "metadata": {},
     "output_type": "execute_result"
    }
   ],
   "source": [
    "train_users.describe()"
   ]
  },
  {
   "cell_type": "code",
   "execution_count": 41,
   "id": "931554f6",
   "metadata": {
    "colab": {
     "base_uri": "https://localhost:8080/"
    },
    "executionInfo": {
     "elapsed": 9,
     "status": "ok",
     "timestamp": 1645448338271,
     "user": {
      "displayName": "Mohamed Ahmed Hassan Abdelmaguid Mohamed",
      "photoUrl": "https://lh3.googleusercontent.com/a-/AOh14Gg7Cz_FAvD0YxWzRP7aQqIpUg-scVtk8zA6OPSSfw=s64",
      "userId": "04245446656493821652"
     },
     "user_tz": -120
    },
    "id": "931554f6",
    "outputId": "e646a2ac-d70d-451f-c3eb-e6eef8c5fc13"
   },
   "outputs": [
    {
     "data": {
      "text/plain": [
       "Index(['id', 'date_account_created', 'timestamp_first_active', 'date_first_booking', 'gender', 'age', 'signup_method', 'signup_flow', 'language', 'affiliate_channel', 'affiliate_provider', 'first_affiliate_tracked', 'signup_app', 'first_device_type', 'first_browser', 'country_destination'], dtype='object')"
      ]
     },
     "execution_count": 41,
     "metadata": {},
     "output_type": "execute_result"
    }
   ],
   "source": [
    "train_users.columns"
   ]
  },
  {
   "cell_type": "code",
   "execution_count": 42,
   "id": "0ab6a5cc",
   "metadata": {
    "colab": {
     "base_uri": "https://localhost:8080/"
    },
    "executionInfo": {
     "elapsed": 413,
     "status": "ok",
     "timestamp": 1645448338677,
     "user": {
      "displayName": "Mohamed Ahmed Hassan Abdelmaguid Mohamed",
      "photoUrl": "https://lh3.googleusercontent.com/a-/AOh14Gg7Cz_FAvD0YxWzRP7aQqIpUg-scVtk8zA6OPSSfw=s64",
      "userId": "04245446656493821652"
     },
     "user_tz": -120
    },
    "id": "0ab6a5cc",
    "outputId": "b7ccb46a-0c50-4d32-c575-401127c5338b"
   },
   "outputs": [
    {
     "name": "stdout",
     "output_type": "stream",
     "text": [
      "The length uniques values of >> gender << : \n",
      "{'OTHER', 'MALE', '-unknown-', 'FEMALE'}\n",
      "-------------------------------------------------------------------------------\n",
      "The length uniques values of >> signup_method << : \n",
      "{'facebook', 'basic', 'google'}\n",
      "-------------------------------------------------------------------------------\n",
      "The length uniques values of >> language << : \n",
      "{'hr', 'ca', 'ko', 'ru', 'es', 'id', 'is', 'el', 'hu', 'zh', 'cs', 'pl', 'it', 'nl', 'en', 'th', 'tr', 'fr', 'de', 'pt', 'no', 'fi', 'sv', 'ja', 'da'}\n",
      "-------------------------------------------------------------------------------\n",
      "The length uniques values of >> affiliate_channel << : \n",
      "{'direct', 'remarketing', 'content', 'sem-non-brand', 'other', 'sem-brand', 'seo', 'api'}\n",
      "-------------------------------------------------------------------------------\n",
      "The length uniques values of >> affiliate_provider << : \n",
      "{'craigslist', 'direct', 'yahoo', 'padmapper', 'wayn', 'yandex', 'vast', 'meetup', 'facebook', 'daum', 'google', 'email-marketing', 'bing', 'other', 'facebook-open-graph', 'gsp', 'baidu', 'naver'}\n",
      "-------------------------------------------------------------------------------\n",
      "The length uniques values of >> first_affiliate_tracked << : \n",
      "{nan, 'marketing', 'omg', 'product', 'linked', 'untracked', 'local ops', 'tracked-other'}\n",
      "-------------------------------------------------------------------------------\n",
      "The length uniques values of >> signup_app << : \n",
      "{'Android', 'Moweb', 'iOS', 'Web'}\n",
      "-------------------------------------------------------------------------------\n",
      "The length uniques values of >> first_device_type << : \n",
      "{'Android Tablet', 'Android Phone', 'Mac Desktop', 'Desktop (Other)', 'Windows Desktop', 'Other/Unknown', 'SmartPhone (Other)', 'iPhone', 'iPad'}\n",
      "-------------------------------------------------------------------------------\n",
      "The length uniques values of >> first_browser << : \n",
      "{'Safari', 'SeaMonkey', 'Googlebot', 'Stainless', 'Arora', 'Mozilla', 'Conkeror', 'IE', 'Chrome Mobile', 'Palm Pre web browser', 'OmniWeb', 'SiteKiosk', 'CoolNovo', 'TenFourFox', 'Comodo Dragon', 'BlackBerry Browser', 'AOL Explorer', 'Opera Mobile', 'wOSBrowser', 'Silk', 'Avant Browser', 'Mobile Safari', 'Android Browser', 'Chrome', 'PS Vita browser', 'Sogou Explorer', 'Camino', 'Pale Moon', 'IE Mobile', 'SlimBrowser', 'TheWorld Browser', 'Kindle Browser', 'Flock', 'Apple Mail', 'Opera Mini', 'Google Earth', 'Chromium', '-unknown-', 'Outlook 2007', 'Maxthon', 'IceWeasel', 'Epic', 'Yandex.Browser', 'Firefox', 'Crazy Browser', 'CometBird', 'Iron', 'RockMelt', 'NetNewsWire', 'Mobile Firefox', 'IceDragon', 'Opera'}\n",
      "-------------------------------------------------------------------------------\n",
      "The length uniques values of >> country_destination << : \n",
      "{'NDF', 'NL', 'GB', 'CA', 'ES', 'PT', 'US', 'AU', 'DE', 'other', 'FR', 'IT'}\n",
      "-------------------------------------------------------------------------------\n"
     ]
    }
   ],
   "source": [
    "#Let us see the length of uniques values for the sessions dataset\n",
    "for i in ['gender', 'signup_method', 'language','affiliate_channel','affiliate_provider','first_affiliate_tracked', 'signup_app', 'first_device_type', 'first_browser', 'country_destination']:\n",
    "    print(\"The length uniques values of >> {} << : \\n{}\".format(i,set(train_users[i])))\n",
    "    print(\"-------------------------------------------------------------------------------\")\n",
    "    "
   ]
  },
  {
   "cell_type": "code",
   "execution_count": 43,
   "id": "e62b8c03",
   "metadata": {
    "colab": {
     "base_uri": "https://localhost:8080/"
    },
    "executionInfo": {
     "elapsed": 6,
     "status": "ok",
     "timestamp": 1645448338678,
     "user": {
      "displayName": "Mohamed Ahmed Hassan Abdelmaguid Mohamed",
      "photoUrl": "https://lh3.googleusercontent.com/a-/AOh14Gg7Cz_FAvD0YxWzRP7aQqIpUg-scVtk8zA6OPSSfw=s64",
      "userId": "04245446656493821652"
     },
     "user_tz": -120
    },
    "id": "e62b8c03",
    "outputId": "22d91062-261b-44fd-89b2-d59fc67987c9"
   },
   "outputs": [
    {
     "name": "stdout",
     "output_type": "stream",
     "text": [
      "The uniques values of >> gender << : \n",
      "{'OTHER', 'MALE', '-unknown-', 'FEMALE'}\n",
      "-------------------------------------------------------------------------------\n",
      "The uniques values of >> signup_method << : \n",
      "{'facebook', 'basic', 'google'}\n",
      "-------------------------------------------------------------------------------\n",
      "The uniques values of >> language << : \n",
      "{'hr', 'ca', 'ko', 'ru', 'es', 'id', 'is', 'el', 'hu', 'zh', 'cs', 'pl', 'it', 'nl', 'en', 'th', 'tr', 'fr', 'de', 'pt', 'no', 'fi', 'sv', 'ja', 'da'}\n",
      "-------------------------------------------------------------------------------\n",
      "The uniques values of >> affiliate_channel << : \n",
      "{'direct', 'remarketing', 'content', 'sem-non-brand', 'other', 'sem-brand', 'seo', 'api'}\n",
      "-------------------------------------------------------------------------------\n",
      "The uniques values of >> affiliate_provider << : \n",
      "{'craigslist', 'direct', 'yahoo', 'padmapper', 'wayn', 'yandex', 'vast', 'meetup', 'facebook', 'daum', 'google', 'email-marketing', 'bing', 'other', 'facebook-open-graph', 'gsp', 'baidu', 'naver'}\n",
      "-------------------------------------------------------------------------------\n",
      "The uniques values of >> first_affiliate_tracked << : \n",
      "{nan, 'marketing', 'omg', 'product', 'linked', 'untracked', 'local ops', 'tracked-other'}\n",
      "-------------------------------------------------------------------------------\n",
      "The uniques values of >> signup_app << : \n",
      "{'Android', 'Moweb', 'iOS', 'Web'}\n",
      "-------------------------------------------------------------------------------\n",
      "The uniques values of >> first_device_type << : \n",
      "{'Android Tablet', 'Android Phone', 'Mac Desktop', 'Desktop (Other)', 'Windows Desktop', 'Other/Unknown', 'SmartPhone (Other)', 'iPhone', 'iPad'}\n",
      "-------------------------------------------------------------------------------\n",
      "The uniques values of >> first_browser << : \n",
      "{'Safari', 'SeaMonkey', 'Googlebot', 'Stainless', 'Arora', 'Mozilla', 'Conkeror', 'IE', 'Chrome Mobile', 'Palm Pre web browser', 'OmniWeb', 'SiteKiosk', 'CoolNovo', 'TenFourFox', 'Comodo Dragon', 'BlackBerry Browser', 'AOL Explorer', 'Opera Mobile', 'wOSBrowser', 'Silk', 'Avant Browser', 'Mobile Safari', 'Android Browser', 'Chrome', 'PS Vita browser', 'Sogou Explorer', 'Camino', 'Pale Moon', 'IE Mobile', 'SlimBrowser', 'TheWorld Browser', 'Kindle Browser', 'Flock', 'Apple Mail', 'Opera Mini', 'Google Earth', 'Chromium', '-unknown-', 'Outlook 2007', 'Maxthon', 'IceWeasel', 'Epic', 'Yandex.Browser', 'Firefox', 'Crazy Browser', 'CometBird', 'Iron', 'RockMelt', 'NetNewsWire', 'Mobile Firefox', 'IceDragon', 'Opera'}\n",
      "-------------------------------------------------------------------------------\n",
      "The uniques values of >> country_destination << : \n",
      "{'NDF', 'NL', 'GB', 'CA', 'ES', 'PT', 'US', 'AU', 'DE', 'other', 'FR', 'IT'}\n",
      "-------------------------------------------------------------------------------\n"
     ]
    }
   ],
   "source": [
    "#Let us see the length of uniques values for the sessions dataset\n",
    "for i in ['gender', 'signup_method', 'language','affiliate_channel','affiliate_provider','first_affiliate_tracked', 'signup_app', 'first_device_type', 'first_browser', 'country_destination']:\n",
    "    print(\"The uniques values of >> {} << : \\n{}\".format(i,set(train_users[i])))\n",
    "    print(\"-------------------------------------------------------------------------------\")\n",
    "    "
   ]
  },
  {
   "cell_type": "code",
   "execution_count": 44,
   "id": "c0f7ef3e",
   "metadata": {
    "colab": {
     "base_uri": "https://localhost:8080/",
     "height": 469
    },
    "executionInfo": {
     "elapsed": 854,
     "status": "ok",
     "timestamp": 1645448339529,
     "user": {
      "displayName": "Mohamed Ahmed Hassan Abdelmaguid Mohamed",
      "photoUrl": "https://lh3.googleusercontent.com/a-/AOh14Gg7Cz_FAvD0YxWzRP7aQqIpUg-scVtk8zA6OPSSfw=s64",
      "userId": "04245446656493821652"
     },
     "user_tz": -120
    },
    "id": "c0f7ef3e",
    "outputId": "056ac6d4-6ef0-4e46-b59b-cb9925ef728d"
   },
   "outputs": [
    {
     "data": {
      "image/png": "[encoded data removed]",
      "text/plain": [
       "<Figure size 720x504 with 1 Axes>"
      ]
     },
     "metadata": {},
     "output_type": "display_data"
    }
   ],
   "source": [
    "missingvalues=pd.DataFrame(train_users.isnull().sum()/len(train_users)).reset_index().rename(columns={\"index\":\"Columns\",0:\"%OfMissingValues\"}).sort_values(by='%OfMissingValues',ascending=False)\n",
    "sns.barplot(x='%OfMissingValues', y='Columns', data=missingvalues,palette='flare');\n",
    "plt.title(\"% Of MissingValues\",fontsize=20);\n"
   ]
  },
  {
   "cell_type": "markdown",
   "id": "eb4a3f9c",
   "metadata": {
    "id": "eb4a3f9c"
   },
   "source": [
    "We see that there are null values in the columns **age**, **country_destination**,\n",
    "**date_first_booking**, **first_affiliate_tracked**."
   ]
  },
  {
   "cell_type": "code",
   "execution_count": 45,
   "id": "021f59c1",
   "metadata": {
    "executionInfo": {
     "elapsed": 4,
     "status": "ok",
     "timestamp": 1645448339530,
     "user": {
      "displayName": "Mohamed Ahmed Hassan Abdelmaguid Mohamed",
      "photoUrl": "https://lh3.googleusercontent.com/a-/AOh14Gg7Cz_FAvD0YxWzRP7aQqIpUg-scVtk8zA6OPSSfw=s64",
      "userId": "04245446656493821652"
     },
     "user_tz": -120
    },
    "id": "021f59c1"
   },
   "outputs": [],
   "source": [
    "train_users.drop(columns='date_first_booking',inplace=True)\n"
   ]
  },
  {
   "cell_type": "markdown",
   "id": "5247c39b",
   "metadata": {
    "id": "5247c39b"
   },
   "source": [
    "We dropped **date_first_booking** since there are no values for it in test data and more than 60% in train data is missing also."
   ]
  },
  {
   "cell_type": "code",
   "execution_count": 46,
   "id": "57bd8da1",
   "metadata": {
    "executionInfo": {
     "elapsed": 556,
     "status": "ok",
     "timestamp": 1645448340082,
     "user": {
      "displayName": "Mohamed Ahmed Hassan Abdelmaguid Mohamed",
      "photoUrl": "https://lh3.googleusercontent.com/a-/AOh14Gg7Cz_FAvD0YxWzRP7aQqIpUg-scVtk8zA6OPSSfw=s64",
      "userId": "04245446656493821652"
     },
     "user_tz": -120
    },
    "id": "57bd8da1"
   },
   "outputs": [],
   "source": [
    "for i in['gender', 'signup_method', 'language', 'affiliate_channel', 'affiliate_provider', 'first_affiliate_tracked', 'signup_app', 'first_device_type', 'first_browser']:\n",
    "    train_users[i]=train_users[i].astype('category')"
   ]
  },
  {
   "cell_type": "markdown",
   "id": "f92bedce",
   "metadata": {
    "id": "f92bedce"
   },
   "source": [
    "**Gender**"
   ]
  },
  {
   "cell_type": "code",
   "execution_count": 47,
   "id": "37bef247",
   "metadata": {
    "colab": {
     "base_uri": "https://localhost:8080/"
    },
    "executionInfo": {
     "elapsed": 29,
     "status": "ok",
     "timestamp": 1645448340083,
     "user": {
      "displayName": "Mohamed Ahmed Hassan Abdelmaguid Mohamed",
      "photoUrl": "https://lh3.googleusercontent.com/a-/AOh14Gg7Cz_FAvD0YxWzRP7aQqIpUg-scVtk8zA6OPSSfw=s64",
      "userId": "04245446656493821652"
     },
     "user_tz": -120
    },
    "id": "37bef247",
    "outputId": "83ca0f2e-fa42-4eb3-a823-0d8eb106c8ba"
   },
   "outputs": [
    {
     "data": {
      "text/plain": [
       "-unknown-    95688\n",
       "FEMALE       63041\n",
       "MALE         54440\n",
       "OTHER          282\n",
       "Name: gender, dtype: int64"
      ]
     },
     "execution_count": 47,
     "metadata": {},
     "output_type": "execute_result"
    }
   ],
   "source": [
    "train_users['gender'].value_counts()"
   ]
  },
  {
   "cell_type": "code",
   "execution_count": 48,
   "id": "9aca4ca1",
   "metadata": {
    "colab": {
     "base_uri": "https://localhost:8080/"
    },
    "executionInfo": {
     "elapsed": 28,
     "status": "ok",
     "timestamp": 1645448340083,
     "user": {
      "displayName": "Mohamed Ahmed Hassan Abdelmaguid Mohamed",
      "photoUrl": "https://lh3.googleusercontent.com/a-/AOh14Gg7Cz_FAvD0YxWzRP7aQqIpUg-scVtk8zA6OPSSfw=s64",
      "userId": "04245446656493821652"
     },
     "user_tz": -120
    },
    "id": "9aca4ca1",
    "outputId": "176d2bfe-2c95-4b5f-e8a7-c16d1839cc43"
   },
   "outputs": [
    {
     "data": {
      "text/plain": [
       "[NaN, 'MALE', 'FEMALE', 'OTHER']\n",
       "Categories (3, object): ['FEMALE', 'MALE', 'OTHER']"
      ]
     },
     "execution_count": 48,
     "metadata": {},
     "output_type": "execute_result"
    }
   ],
   "source": [
    "# Lets replace the unknown in gender with NaN\n",
    "train_users['gender'].replace('-unknown-', np.nan,inplace=True)\n",
    "train_users['gender'].unique()"
   ]
  },
  {
   "cell_type": "markdown",
   "id": "14062e25",
   "metadata": {
    "id": "14062e25"
   },
   "source": [
    "**First browser**"
   ]
  },
  {
   "cell_type": "code",
   "execution_count": 49,
   "id": "b68216de",
   "metadata": {
    "colab": {
     "base_uri": "https://localhost:8080/"
    },
    "executionInfo": {
     "elapsed": 26,
     "status": "ok",
     "timestamp": 1645448340084,
     "user": {
      "displayName": "Mohamed Ahmed Hassan Abdelmaguid Mohamed",
      "photoUrl": "https://lh3.googleusercontent.com/a-/AOh14Gg7Cz_FAvD0YxWzRP7aQqIpUg-scVtk8zA6OPSSfw=s64",
      "userId": "04245446656493821652"
     },
     "user_tz": -120
    },
    "id": "b68216de",
    "outputId": "1f29b91b-1676-499a-d78c-614fa478df69"
   },
   "outputs": [
    {
     "data": {
      "text/plain": [
       "Chrome                  63845\n",
       "Safari                  45169\n",
       "Firefox                 33655\n",
       "-unknown-               27266\n",
       "IE                      21068\n",
       "Mobile Safari           19274\n",
       "Chrome Mobile            1270\n",
       "Android Browser           851\n",
       "AOL Explorer              245\n",
       "Opera                     188\n",
       "Silk                      124\n",
       "Chromium                   73\n",
       "BlackBerry Browser         53\n",
       "Maxthon                    46\n",
       "IE Mobile                  36\n",
       "Apple Mail                 36\n",
       "Sogou Explorer             33\n",
       "Mobile Firefox             30\n",
       "SiteKiosk                  24\n",
       "RockMelt                   24\n",
       "Iron                       17\n",
       "IceWeasel                  13\n",
       "Pale Moon                  12\n",
       "Yandex.Browser             11\n",
       "SeaMonkey                  11\n",
       "CometBird                  11\n",
       "Camino                      9\n",
       "TenFourFox                  8\n",
       "wOSBrowser                  6\n",
       "CoolNovo                    6\n",
       "Opera Mini                  4\n",
       "Avant Browser               4\n",
       "Mozilla                     3\n",
       "Flock                       2\n",
       "OmniWeb                     2\n",
       "TheWorld Browser            2\n",
       "Opera Mobile                2\n",
       "Comodo Dragon               2\n",
       "SlimBrowser                 2\n",
       "Crazy Browser               2\n",
       "Arora                       1\n",
       "Stainless                   1\n",
       "Conkeror                    1\n",
       "IceDragon                   1\n",
       "Epic                        1\n",
       "Palm Pre web browser        1\n",
       "Google Earth                1\n",
       "PS Vita browser             1\n",
       "Outlook 2007                1\n",
       "Googlebot                   1\n",
       "NetNewsWire                 1\n",
       "Kindle Browser              1\n",
       "Name: first_browser, dtype: int64"
      ]
     },
     "execution_count": 49,
     "metadata": {},
     "output_type": "execute_result"
    }
   ],
   "source": [
    "train_users['first_browser'].value_counts()"
   ]
  },
  {
   "cell_type": "code",
   "execution_count": 50,
   "id": "5529d681",
   "metadata": {
    "colab": {
     "base_uri": "https://localhost:8080/"
    },
    "executionInfo": {
     "elapsed": 24,
     "status": "ok",
     "timestamp": 1645448340084,
     "user": {
      "displayName": "Mohamed Ahmed Hassan Abdelmaguid Mohamed",
      "photoUrl": "https://lh3.googleusercontent.com/a-/AOh14Gg7Cz_FAvD0YxWzRP7aQqIpUg-scVtk8zA6OPSSfw=s64",
      "userId": "04245446656493821652"
     },
     "user_tz": -120
    },
    "id": "5529d681",
    "outputId": "8e5af98e-ddc4-4c33-e518-c17ebdd93622"
   },
   "outputs": [
    {
     "data": {
      "text/plain": [
       "Chrome                  63845\n",
       "Safari                  45169\n",
       "Firefox                 33655\n",
       "IE                      21068\n",
       "Mobile Safari           19274\n",
       "Chrome Mobile            1270\n",
       "Android Browser           851\n",
       "AOL Explorer              245\n",
       "Opera                     188\n",
       "Silk                      124\n",
       "Chromium                   73\n",
       "BlackBerry Browser         53\n",
       "Maxthon                    46\n",
       "IE Mobile                  36\n",
       "Apple Mail                 36\n",
       "Sogou Explorer             33\n",
       "Mobile Firefox             30\n",
       "SiteKiosk                  24\n",
       "RockMelt                   24\n",
       "Iron                       17\n",
       "IceWeasel                  13\n",
       "Pale Moon                  12\n",
       "Yandex.Browser             11\n",
       "SeaMonkey                  11\n",
       "CometBird                  11\n",
       "Camino                      9\n",
       "TenFourFox                  8\n",
       "wOSBrowser                  6\n",
       "CoolNovo                    6\n",
       "Opera Mini                  4\n",
       "Avant Browser               4\n",
       "Mozilla                     3\n",
       "Flock                       2\n",
       "OmniWeb                     2\n",
       "TheWorld Browser            2\n",
       "Opera Mobile                2\n",
       "Comodo Dragon               2\n",
       "SlimBrowser                 2\n",
       "Crazy Browser               2\n",
       "Arora                       1\n",
       "Stainless                   1\n",
       "Conkeror                    1\n",
       "IceDragon                   1\n",
       "Epic                        1\n",
       "Palm Pre web browser        1\n",
       "Google Earth                1\n",
       "PS Vita browser             1\n",
       "Outlook 2007                1\n",
       "Googlebot                   1\n",
       "NetNewsWire                 1\n",
       "Kindle Browser              1\n",
       "Name: first_browser, dtype: int64"
      ]
     },
     "execution_count": 50,
     "metadata": {},
     "output_type": "execute_result"
    }
   ],
   "source": [
    "# Lets replace the unknown in first_browser with NaN\n",
    "train_users['first_browser'].replace('-unknown-', np.nan,inplace=True)\n",
    "train_users['first_browser'].value_counts()\n"
   ]
  },
  {
   "cell_type": "markdown",
   "id": "1de39990",
   "metadata": {
    "id": "1de39990"
   },
   "source": [
    "**Age**"
   ]
  },
  {
   "cell_type": "code",
   "execution_count": 51,
   "id": "464a14fc",
   "metadata": {
    "colab": {
     "base_uri": "https://localhost:8080/"
    },
    "executionInfo": {
     "elapsed": 22,
     "status": "ok",
     "timestamp": 1645448340084,
     "user": {
      "displayName": "Mohamed Ahmed Hassan Abdelmaguid Mohamed",
      "photoUrl": "https://lh3.googleusercontent.com/a-/AOh14Gg7Cz_FAvD0YxWzRP7aQqIpUg-scVtk8zA6OPSSfw=s64",
      "userId": "04245446656493821652"
     },
     "user_tz": -120
    },
    "id": "464a14fc",
    "outputId": "c91c7788-1107-4ee2-8de2-783b89eb2b2a"
   },
   "outputs": [
    {
     "data": {
      "text/plain": [
       "count    125461.000000\n",
       "mean         49.668335\n",
       "std         155.666612\n",
       "min           1.000000\n",
       "25%          28.000000\n",
       "50%          34.000000\n",
       "75%          43.000000\n",
       "max        2014.000000\n",
       "Name: age, dtype: float64"
      ]
     },
     "execution_count": 51,
     "metadata": {},
     "output_type": "execute_result"
    }
   ],
   "source": [
    "train_users['age'].describe()"
   ]
  },
  {
   "cell_type": "markdown",
   "id": "766eca45",
   "metadata": {
    "id": "766eca45"
   },
   "source": [
    "First, we have noticed **unrealistic values** in the data, for example, **that the oldest age in the dataset is 2014.**<br>\n",
    "**After searching**,<br> we found that **World’s oldest woman age in the world is 119**<br>\n",
    "and **the World’s oldest man age in the world is 112**\n",
    "\n",
    "Secondly, We have noticed in the data, the minimum age is one year, and after referring to the company, we found that **not allow anyone under the age of 18 to create an account** to travel or host.<br>\n",
    "\n",
    "**references:**<br>\n",
    "* the man oldest age: https://www.ndtv.com/world-news/worlds-oldest-man-dies-at-age-112-3-weeks-before-113th-birthday-2716204<br>\n",
    "* the man women age: https://www.news24.com/you/news/international/worlds-oldest-woman-aiming-for-120-20220104<br>\n",
    "\n",
    "* Age requirements on Airbnb : https://www.airbnb.com/help/article/2876/age-requirements<br>"
   ]
  },
  {
   "cell_type": "code",
   "execution_count": 52,
   "id": "e12bdcf3",
   "metadata": {
    "executionInfo": {
     "elapsed": 22,
     "status": "ok",
     "timestamp": 1645448340085,
     "user": {
      "displayName": "Mohamed Ahmed Hassan Abdelmaguid Mohamed",
      "photoUrl": "https://lh3.googleusercontent.com/a-/AOh14Gg7Cz_FAvD0YxWzRP7aQqIpUg-scVtk8zA6OPSSfw=s64",
      "userId": "04245446656493821652"
     },
     "user_tz": -120
    },
    "id": "e12bdcf3"
   },
   "outputs": [],
   "source": [
    "train_users.loc[train_users.age >= 119, 'age'] = np.nan\n",
    "train_users.loc[train_users.age <= 18, 'age'] = np.nan"
   ]
  },
  {
   "cell_type": "code",
   "execution_count": 53,
   "id": "cd753528",
   "metadata": {
    "colab": {
     "base_uri": "https://localhost:8080/"
    },
    "executionInfo": {
     "elapsed": 22,
     "status": "ok",
     "timestamp": 1645448340085,
     "user": {
      "displayName": "Mohamed Ahmed Hassan Abdelmaguid Mohamed",
      "photoUrl": "https://lh3.googleusercontent.com/a-/AOh14Gg7Cz_FAvD0YxWzRP7aQqIpUg-scVtk8zA6OPSSfw=s64",
      "userId": "04245446656493821652"
     },
     "user_tz": -120
    },
    "id": "cd753528",
    "outputId": "4c7251d6-f51a-404d-ec1d-00da6d71c3e8"
   },
   "outputs": [
    {
     "data": {
      "text/plain": [
       "0.41975910162051244"
      ]
     },
     "execution_count": 53,
     "metadata": {},
     "output_type": "execute_result"
    }
   ],
   "source": [
    "train_users['age'].isnull().sum()/len(train_users['age'])"
   ]
  },
  {
   "cell_type": "markdown",
   "id": "a3285696",
   "metadata": {
    "id": "a3285696"
   },
   "source": [
    "We will handle missing values later in feature engineering"
   ]
  },
  {
   "cell_type": "code",
   "execution_count": 54,
   "id": "b7610cc9",
   "metadata": {
    "colab": {
     "base_uri": "https://localhost:8080/"
    },
    "executionInfo": {
     "elapsed": 20,
     "status": "ok",
     "timestamp": 1645448340086,
     "user": {
      "displayName": "Mohamed Ahmed Hassan Abdelmaguid Mohamed",
      "photoUrl": "https://lh3.googleusercontent.com/a-/AOh14Gg7Cz_FAvD0YxWzRP7aQqIpUg-scVtk8zA6OPSSfw=s64",
      "userId": "04245446656493821652"
     },
     "user_tz": -120
    },
    "id": "b7610cc9",
    "outputId": "80182f02-75f4-4d71-befc-f133e2acafd7"
   },
   "outputs": [
    {
     "data": {
      "text/plain": [
       "count    123853.000000\n",
       "mean         37.548885\n",
       "std          13.894606\n",
       "min          19.000000\n",
       "25%          28.000000\n",
       "50%          34.000000\n",
       "75%          43.000000\n",
       "max         115.000000\n",
       "Name: age, dtype: float64"
      ]
     },
     "execution_count": 54,
     "metadata": {},
     "output_type": "execute_result"
    }
   ],
   "source": [
    "train_users['age'].describe()"
   ]
  },
  {
   "cell_type": "markdown",
   "id": "d836cced",
   "metadata": {
    "id": "d836cced"
   },
   "source": [
    "---------------------------------------------------------------------------------------------------\n",
    "Let us **fix datetime in dataset for date_account_created and timestamp_first_active**"
   ]
  },
  {
   "cell_type": "markdown",
   "id": "7a5aa6d2",
   "metadata": {
    "id": "7a5aa6d2"
   },
   "source": [
    "**Date account created**"
   ]
  },
  {
   "cell_type": "code",
   "execution_count": 55,
   "id": "b0e02930",
   "metadata": {
    "executionInfo": {
     "elapsed": 18,
     "status": "ok",
     "timestamp": 1645448340086,
     "user": {
      "displayName": "Mohamed Ahmed Hassan Abdelmaguid Mohamed",
      "photoUrl": "https://lh3.googleusercontent.com/a-/AOh14Gg7Cz_FAvD0YxWzRP7aQqIpUg-scVtk8zA6OPSSfw=s64",
      "userId": "04245446656493821652"
     },
     "user_tz": -120
    },
    "id": "b0e02930"
   },
   "outputs": [],
   "source": [
    "train_users['date_account_created']=pd.to_datetime(train_users['date_account_created'],format=\"%Y-%m-%d\")"
   ]
  },
  {
   "cell_type": "code",
   "execution_count": 56,
   "id": "af4b4c38",
   "metadata": {
    "executionInfo": {
     "elapsed": 18,
     "status": "ok",
     "timestamp": 1645448340086,
     "user": {
      "displayName": "Mohamed Ahmed Hassan Abdelmaguid Mohamed",
      "photoUrl": "https://lh3.googleusercontent.com/a-/AOh14Gg7Cz_FAvD0YxWzRP7aQqIpUg-scVtk8zA6OPSSfw=s64",
      "userId": "04245446656493821652"
     },
     "user_tz": -120
    },
    "id": "af4b4c38"
   },
   "outputs": [],
   "source": [
    "train_users['timestamp_first_active']=train_users['timestamp_first_active']\\\n",
    "                                                     .astype(str).apply(lambda x: datetime(year=int(x[0:4]),\n",
    "                                                                                           month=int(x[4:6]),\n",
    "                                                                                           day=int(x[6:8]),\n",
    "                                                                                           hour=int(x[8:10]), \n",
    "                                                                                           minute=int(x[10:12]), \n",
    "                                                                                           second=int(x[12:])))\n"
   ]
  },
  {
   "cell_type": "code",
   "execution_count": 57,
   "id": "95ab6ea0",
   "metadata": {
    "colab": {
     "base_uri": "https://localhost:8080/",
     "height": 206
    },
    "executionInfo": {
     "elapsed": 17,
     "status": "ok",
     "timestamp": 1645448340086,
     "user": {
      "displayName": "Mohamed Ahmed Hassan Abdelmaguid Mohamed",
      "photoUrl": "https://lh3.googleusercontent.com/a-/AOh14Gg7Cz_FAvD0YxWzRP7aQqIpUg-scVtk8zA6OPSSfw=s64",
      "userId": "04245446656493821652"
     },
     "user_tz": -120
    },
    "id": "95ab6ea0",
    "outputId": "70f6735a-8097-4d09-e9e4-e59d554aa0f4"
   },
   "outputs": [
    {
     "data": {
      "text/html": [
       "<div>\n",
       "<style scoped>\n",
       "    .dataframe tbody tr th:only-of-type {\n",
       "        vertical-align: middle;\n",
       "    }\n",
       "\n",
       "    .dataframe tbody tr th {\n",
       "        vertical-align: top;\n",
       "    }\n",
       "\n",
       "    .dataframe thead th {\n",
       "        text-align: right;\n",
       "    }\n",
       "</style>\n",
       "<table border=\"1\" class=\"dataframe\">\n",
       "  <thead>\n",
       "    <tr style=\"text-align: right;\">\n",
       "      <th></th>\n",
       "      <th>date_account_created</th>\n",
       "      <th>timestamp_first_active</th>\n",
       "    </tr>\n",
       "  </thead>\n",
       "  <tbody>\n",
       "    <tr>\n",
       "      <th>0</th>\n",
       "      <td>2010-06-28</td>\n",
       "      <td>2009-03-19 04:32:55</td>\n",
       "    </tr>\n",
       "    <tr>\n",
       "      <th>1</th>\n",
       "      <td>2011-05-25</td>\n",
       "      <td>2009-05-23 17:48:09</td>\n",
       "    </tr>\n",
       "    <tr>\n",
       "      <th>2</th>\n",
       "      <td>2010-09-28</td>\n",
       "      <td>2009-06-09 23:12:47</td>\n",
       "    </tr>\n",
       "    <tr>\n",
       "      <th>3</th>\n",
       "      <td>2011-12-05</td>\n",
       "      <td>2009-10-31 06:01:29</td>\n",
       "    </tr>\n",
       "    <tr>\n",
       "      <th>4</th>\n",
       "      <td>2010-09-14</td>\n",
       "      <td>2009-12-08 06:11:05</td>\n",
       "    </tr>\n",
       "  </tbody>\n",
       "</table>\n",
       "</div>"
      ],
      "text/plain": [
       "  date_account_created timestamp_first_active\n",
       "0           2010-06-28    2009-03-19 04:32:55\n",
       "1           2011-05-25    2009-05-23 17:48:09\n",
       "2           2010-09-28    2009-06-09 23:12:47\n",
       "3           2011-12-05    2009-10-31 06:01:29\n",
       "4           2010-09-14    2009-12-08 06:11:05"
      ]
     },
     "execution_count": 57,
     "metadata": {},
     "output_type": "execute_result"
    }
   ],
   "source": [
    "train_users[['date_account_created','timestamp_first_active']].head()"
   ]
  },
  {
   "cell_type": "markdown",
   "id": "35fd1db4",
   "metadata": {
    "id": "35fd1db4"
   },
   "source": [
    "From just looking to the first 5 rows of the dataset, we noticed there **difference between first active and the date account created**"
   ]
  },
  {
   "cell_type": "markdown",
   "id": "4f48f40a",
   "metadata": {
    "id": "4f48f40a"
   },
   "source": [
    "### Let us work with the Testing Users¶ dataset"
   ]
  },
  {
   "cell_type": "code",
   "execution_count": 58,
   "id": "aa0575e2",
   "metadata": {
    "colab": {
     "base_uri": "https://localhost:8080/",
     "height": 740
    },
    "executionInfo": {
     "elapsed": 18,
     "status": "ok",
     "timestamp": 1645448340087,
     "user": {
      "displayName": "Mohamed Ahmed Hassan Abdelmaguid Mohamed",
      "photoUrl": "https://lh3.googleusercontent.com/a-/AOh14Gg7Cz_FAvD0YxWzRP7aQqIpUg-scVtk8zA6OPSSfw=s64",
      "userId": "04245446656493821652"
     },
     "user_tz": -120
    },
    "id": "aa0575e2",
    "outputId": "5ee48a77-1d14-4d4a-e540-005c96f482b0"
   },
   "outputs": [
    {
     "data": {
      "text/html": [
       "<div>\n",
       "<style scoped>\n",
       "    .dataframe tbody tr th:only-of-type {\n",
       "        vertical-align: middle;\n",
       "    }\n",
       "\n",
       "    .dataframe tbody tr th {\n",
       "        vertical-align: top;\n",
       "    }\n",
       "\n",
       "    .dataframe thead th {\n",
       "        text-align: right;\n",
       "    }\n",
       "</style>\n",
       "<table border=\"1\" class=\"dataframe\">\n",
       "  <thead>\n",
       "    <tr style=\"text-align: right;\">\n",
       "      <th></th>\n",
       "      <th>id</th>\n",
       "      <th>date_account_created</th>\n",
       "      <th>timestamp_first_active</th>\n",
       "      <th>date_first_booking</th>\n",
       "      <th>gender</th>\n",
       "      <th>age</th>\n",
       "      <th>signup_method</th>\n",
       "      <th>signup_flow</th>\n",
       "      <th>language</th>\n",
       "      <th>affiliate_channel</th>\n",
       "      <th>affiliate_provider</th>\n",
       "      <th>first_affiliate_tracked</th>\n",
       "      <th>signup_app</th>\n",
       "      <th>first_device_type</th>\n",
       "      <th>first_browser</th>\n",
       "    </tr>\n",
       "  </thead>\n",
       "  <tbody>\n",
       "    <tr>\n",
       "      <th>18449</th>\n",
       "      <td>qwny0bd0s6</td>\n",
       "      <td>2014-07-27</td>\n",
       "      <td>20140727211457</td>\n",
       "      <td>NaN</td>\n",
       "      <td>-unknown-</td>\n",
       "      <td>NaN</td>\n",
       "      <td>basic</td>\n",
       "      <td>0</td>\n",
       "      <td>en</td>\n",
       "      <td>sem-non-brand</td>\n",
       "      <td>google</td>\n",
       "      <td>omg</td>\n",
       "      <td>Web</td>\n",
       "      <td>Windows Desktop</td>\n",
       "      <td>Firefox</td>\n",
       "    </tr>\n",
       "    <tr>\n",
       "      <th>52835</th>\n",
       "      <td>fcmjkfupo0</td>\n",
       "      <td>2014-09-16</td>\n",
       "      <td>20140916005424</td>\n",
       "      <td>NaN</td>\n",
       "      <td>-unknown-</td>\n",
       "      <td>NaN</td>\n",
       "      <td>basic</td>\n",
       "      <td>25</td>\n",
       "      <td>en</td>\n",
       "      <td>direct</td>\n",
       "      <td>direct</td>\n",
       "      <td>untracked</td>\n",
       "      <td>iOS</td>\n",
       "      <td>iPhone</td>\n",
       "      <td>-unknown-</td>\n",
       "    </tr>\n",
       "    <tr>\n",
       "      <th>51718</th>\n",
       "      <td>5qfwyx51vw</td>\n",
       "      <td>2014-09-14</td>\n",
       "      <td>20140914034549</td>\n",
       "      <td>NaN</td>\n",
       "      <td>-unknown-</td>\n",
       "      <td>29.0</td>\n",
       "      <td>basic</td>\n",
       "      <td>0</td>\n",
       "      <td>en</td>\n",
       "      <td>direct</td>\n",
       "      <td>direct</td>\n",
       "      <td>untracked</td>\n",
       "      <td>Web</td>\n",
       "      <td>Windows Desktop</td>\n",
       "      <td>Chrome</td>\n",
       "    </tr>\n",
       "    <tr>\n",
       "      <th>59142</th>\n",
       "      <td>3uds40isu3</td>\n",
       "      <td>2014-09-26</td>\n",
       "      <td>20140926010431</td>\n",
       "      <td>NaN</td>\n",
       "      <td>MALE</td>\n",
       "      <td>56.0</td>\n",
       "      <td>basic</td>\n",
       "      <td>0</td>\n",
       "      <td>en</td>\n",
       "      <td>sem-brand</td>\n",
       "      <td>google</td>\n",
       "      <td>omg</td>\n",
       "      <td>Web</td>\n",
       "      <td>Windows Desktop</td>\n",
       "      <td>Chrome</td>\n",
       "    </tr>\n",
       "    <tr>\n",
       "      <th>38505</th>\n",
       "      <td>9xqted92xp</td>\n",
       "      <td>2014-08-25</td>\n",
       "      <td>20140825070955</td>\n",
       "      <td>NaN</td>\n",
       "      <td>-unknown-</td>\n",
       "      <td>NaN</td>\n",
       "      <td>basic</td>\n",
       "      <td>0</td>\n",
       "      <td>en</td>\n",
       "      <td>direct</td>\n",
       "      <td>direct</td>\n",
       "      <td>linked</td>\n",
       "      <td>Web</td>\n",
       "      <td>iPhone</td>\n",
       "      <td>Mobile Safari</td>\n",
       "    </tr>\n",
       "    <tr>\n",
       "      <th>13404</th>\n",
       "      <td>6wrddm9iza</td>\n",
       "      <td>2014-07-22</td>\n",
       "      <td>20140722005058</td>\n",
       "      <td>NaN</td>\n",
       "      <td>FEMALE</td>\n",
       "      <td>24.0</td>\n",
       "      <td>facebook</td>\n",
       "      <td>0</td>\n",
       "      <td>en</td>\n",
       "      <td>seo</td>\n",
       "      <td>google</td>\n",
       "      <td>untracked</td>\n",
       "      <td>Web</td>\n",
       "      <td>Mac Desktop</td>\n",
       "      <td>Chrome</td>\n",
       "    </tr>\n",
       "    <tr>\n",
       "      <th>1703</th>\n",
       "      <td>ojfvc2ph23</td>\n",
       "      <td>2014-07-03</td>\n",
       "      <td>20140703192401</td>\n",
       "      <td>NaN</td>\n",
       "      <td>FEMALE</td>\n",
       "      <td>39.0</td>\n",
       "      <td>basic</td>\n",
       "      <td>0</td>\n",
       "      <td>en</td>\n",
       "      <td>direct</td>\n",
       "      <td>direct</td>\n",
       "      <td>untracked</td>\n",
       "      <td>Web</td>\n",
       "      <td>Mac Desktop</td>\n",
       "      <td>Safari</td>\n",
       "    </tr>\n",
       "    <tr>\n",
       "      <th>4719</th>\n",
       "      <td>gcrnw003k0</td>\n",
       "      <td>2014-07-09</td>\n",
       "      <td>20140709055945</td>\n",
       "      <td>NaN</td>\n",
       "      <td>-unknown-</td>\n",
       "      <td>NaN</td>\n",
       "      <td>basic</td>\n",
       "      <td>0</td>\n",
       "      <td>en</td>\n",
       "      <td>sem-brand</td>\n",
       "      <td>bing</td>\n",
       "      <td>omg</td>\n",
       "      <td>Web</td>\n",
       "      <td>Mac Desktop</td>\n",
       "      <td>Safari</td>\n",
       "    </tr>\n",
       "    <tr>\n",
       "      <th>7956</th>\n",
       "      <td>ui6scgtz0l</td>\n",
       "      <td>2014-07-15</td>\n",
       "      <td>20140715054905</td>\n",
       "      <td>NaN</td>\n",
       "      <td>-unknown-</td>\n",
       "      <td>26.0</td>\n",
       "      <td>basic</td>\n",
       "      <td>0</td>\n",
       "      <td>en</td>\n",
       "      <td>sem-brand</td>\n",
       "      <td>google</td>\n",
       "      <td>omg</td>\n",
       "      <td>Web</td>\n",
       "      <td>Mac Desktop</td>\n",
       "      <td>Chrome</td>\n",
       "    </tr>\n",
       "    <tr>\n",
       "      <th>11941</th>\n",
       "      <td>5huhc2jsjc</td>\n",
       "      <td>2014-07-20</td>\n",
       "      <td>20140720050559</td>\n",
       "      <td>NaN</td>\n",
       "      <td>-unknown-</td>\n",
       "      <td>NaN</td>\n",
       "      <td>basic</td>\n",
       "      <td>25</td>\n",
       "      <td>en</td>\n",
       "      <td>direct</td>\n",
       "      <td>direct</td>\n",
       "      <td>untracked</td>\n",
       "      <td>iOS</td>\n",
       "      <td>iPhone</td>\n",
       "      <td>-unknown-</td>\n",
       "    </tr>\n",
       "    <tr>\n",
       "      <th>34424</th>\n",
       "      <td>0l1cy3f6j0</td>\n",
       "      <td>2014-08-19</td>\n",
       "      <td>20140819033009</td>\n",
       "      <td>NaN</td>\n",
       "      <td>MALE</td>\n",
       "      <td>NaN</td>\n",
       "      <td>basic</td>\n",
       "      <td>0</td>\n",
       "      <td>en</td>\n",
       "      <td>direct</td>\n",
       "      <td>direct</td>\n",
       "      <td>linked</td>\n",
       "      <td>Web</td>\n",
       "      <td>Windows Desktop</td>\n",
       "      <td>Chrome</td>\n",
       "    </tr>\n",
       "    <tr>\n",
       "      <th>1042</th>\n",
       "      <td>9z5omke4fo</td>\n",
       "      <td>2014-07-02</td>\n",
       "      <td>20140702190608</td>\n",
       "      <td>NaN</td>\n",
       "      <td>-unknown-</td>\n",
       "      <td>NaN</td>\n",
       "      <td>basic</td>\n",
       "      <td>0</td>\n",
       "      <td>en</td>\n",
       "      <td>sem-brand</td>\n",
       "      <td>google</td>\n",
       "      <td>untracked</td>\n",
       "      <td>Web</td>\n",
       "      <td>Windows Desktop</td>\n",
       "      <td>Firefox</td>\n",
       "    </tr>\n",
       "    <tr>\n",
       "      <th>42309</th>\n",
       "      <td>xxs4evrmke</td>\n",
       "      <td>2014-08-30</td>\n",
       "      <td>20140830080207</td>\n",
       "      <td>NaN</td>\n",
       "      <td>-unknown-</td>\n",
       "      <td>NaN</td>\n",
       "      <td>basic</td>\n",
       "      <td>25</td>\n",
       "      <td>en</td>\n",
       "      <td>sem-brand</td>\n",
       "      <td>bing</td>\n",
       "      <td>omg</td>\n",
       "      <td>iOS</td>\n",
       "      <td>iPhone</td>\n",
       "      <td>Mobile Safari</td>\n",
       "    </tr>\n",
       "    <tr>\n",
       "      <th>50387</th>\n",
       "      <td>b1w9fk8nrc</td>\n",
       "      <td>2014-09-11</td>\n",
       "      <td>20140911224225</td>\n",
       "      <td>NaN</td>\n",
       "      <td>-unknown-</td>\n",
       "      <td>31.0</td>\n",
       "      <td>basic</td>\n",
       "      <td>0</td>\n",
       "      <td>en</td>\n",
       "      <td>direct</td>\n",
       "      <td>direct</td>\n",
       "      <td>omg</td>\n",
       "      <td>Web</td>\n",
       "      <td>Mac Desktop</td>\n",
       "      <td>Chrome</td>\n",
       "    </tr>\n",
       "    <tr>\n",
       "      <th>27032</th>\n",
       "      <td>6nbp274dxn</td>\n",
       "      <td>2014-08-08</td>\n",
       "      <td>20140808162157</td>\n",
       "      <td>NaN</td>\n",
       "      <td>FEMALE</td>\n",
       "      <td>32.0</td>\n",
       "      <td>basic</td>\n",
       "      <td>0</td>\n",
       "      <td>en</td>\n",
       "      <td>direct</td>\n",
       "      <td>direct</td>\n",
       "      <td>linked</td>\n",
       "      <td>Web</td>\n",
       "      <td>iPad</td>\n",
       "      <td>Mobile Safari</td>\n",
       "    </tr>\n",
       "    <tr>\n",
       "      <th>54445</th>\n",
       "      <td>5jnt1351r0</td>\n",
       "      <td>2014-09-18</td>\n",
       "      <td>20140918090708</td>\n",
       "      <td>NaN</td>\n",
       "      <td>-unknown-</td>\n",
       "      <td>NaN</td>\n",
       "      <td>basic</td>\n",
       "      <td>0</td>\n",
       "      <td>en</td>\n",
       "      <td>direct</td>\n",
       "      <td>direct</td>\n",
       "      <td>untracked</td>\n",
       "      <td>Web</td>\n",
       "      <td>Windows Desktop</td>\n",
       "      <td>Chrome</td>\n",
       "    </tr>\n",
       "    <tr>\n",
       "      <th>29477</th>\n",
       "      <td>moq4o6alix</td>\n",
       "      <td>2014-08-12</td>\n",
       "      <td>20140812010236</td>\n",
       "      <td>NaN</td>\n",
       "      <td>FEMALE</td>\n",
       "      <td>41.0</td>\n",
       "      <td>facebook</td>\n",
       "      <td>25</td>\n",
       "      <td>en</td>\n",
       "      <td>direct</td>\n",
       "      <td>direct</td>\n",
       "      <td>untracked</td>\n",
       "      <td>iOS</td>\n",
       "      <td>iPhone</td>\n",
       "      <td>-unknown-</td>\n",
       "    </tr>\n",
       "    <tr>\n",
       "      <th>34978</th>\n",
       "      <td>gaehte377f</td>\n",
       "      <td>2014-08-19</td>\n",
       "      <td>20140819224853</td>\n",
       "      <td>NaN</td>\n",
       "      <td>-unknown-</td>\n",
       "      <td>NaN</td>\n",
       "      <td>basic</td>\n",
       "      <td>0</td>\n",
       "      <td>en</td>\n",
       "      <td>sem-brand</td>\n",
       "      <td>google</td>\n",
       "      <td>omg</td>\n",
       "      <td>Web</td>\n",
       "      <td>Windows Desktop</td>\n",
       "      <td>IE</td>\n",
       "    </tr>\n",
       "    <tr>\n",
       "      <th>46172</th>\n",
       "      <td>almaos1o8o</td>\n",
       "      <td>2014-09-05</td>\n",
       "      <td>20140905050947</td>\n",
       "      <td>NaN</td>\n",
       "      <td>FEMALE</td>\n",
       "      <td>19.0</td>\n",
       "      <td>basic</td>\n",
       "      <td>0</td>\n",
       "      <td>en</td>\n",
       "      <td>sem-brand</td>\n",
       "      <td>google</td>\n",
       "      <td>linked</td>\n",
       "      <td>Web</td>\n",
       "      <td>Mac Desktop</td>\n",
       "      <td>Safari</td>\n",
       "    </tr>\n",
       "    <tr>\n",
       "      <th>32335</th>\n",
       "      <td>oz9wxj74ez</td>\n",
       "      <td>2014-08-16</td>\n",
       "      <td>20140816000404</td>\n",
       "      <td>NaN</td>\n",
       "      <td>-unknown-</td>\n",
       "      <td>NaN</td>\n",
       "      <td>basic</td>\n",
       "      <td>0</td>\n",
       "      <td>en</td>\n",
       "      <td>seo</td>\n",
       "      <td>google</td>\n",
       "      <td>linked</td>\n",
       "      <td>Web</td>\n",
       "      <td>Windows Desktop</td>\n",
       "      <td>Chrome</td>\n",
       "    </tr>\n",
       "  </tbody>\n",
       "</table>\n",
       "</div>"
      ],
      "text/plain": [
       "               id date_account_created  timestamp_first_active  date_first_booking     gender   age signup_method  signup_flow language affiliate_channel affiliate_provider first_affiliate_tracked signup_app first_device_type  first_browser\n",
       "18449  qwny0bd0s6           2014-07-27          20140727211457                 NaN  -unknown-   NaN         basic            0       en     sem-non-brand             google                     omg        Web   Windows Desktop        Firefox\n",
       "52835  fcmjkfupo0           2014-09-16          20140916005424                 NaN  -unknown-   NaN         basic           25       en            direct             direct               untracked        iOS            iPhone      -unknown-\n",
       "51718  5qfwyx51vw           2014-09-14          20140914034549                 NaN  -unknown-  29.0         basic            0       en            direct             direct               untracked        Web   Windows Desktop         Chrome\n",
       "59142  3uds40isu3           2014-09-26          20140926010431                 NaN       MALE  56.0         basic            0       en         sem-brand             google                     omg        Web   Windows Desktop         Chrome\n",
       "38505  9xqted92xp           2014-08-25          20140825070955                 NaN  -unknown-   NaN         basic            0       en            direct             direct                  linked        Web            iPhone  Mobile Safari\n",
       "13404  6wrddm9iza           2014-07-22          20140722005058                 NaN     FEMALE  24.0      facebook            0       en               seo             google               untracked        Web       Mac Desktop         Chrome\n",
       "1703   ojfvc2ph23           2014-07-03          20140703192401                 NaN     FEMALE  39.0         basic            0       en            direct             direct               untracked        Web       Mac Desktop         Safari\n",
       "4719   gcrnw003k0           2014-07-09          20140709055945                 NaN  -unknown-   NaN         basic            0       en         sem-brand               bing                     omg        Web       Mac Desktop         Safari\n",
       "7956   ui6scgtz0l           2014-07-15          20140715054905                 NaN  -unknown-  26.0         basic            0       en         sem-brand             google                     omg        Web       Mac Desktop         Chrome\n",
       "11941  5huhc2jsjc           2014-07-20          20140720050559                 NaN  -unknown-   NaN         basic           25       en            direct             direct               untracked        iOS            iPhone      -unknown-\n",
       "34424  0l1cy3f6j0           2014-08-19          20140819033009                 NaN       MALE   NaN         basic            0       en            direct             direct                  linked        Web   Windows Desktop         Chrome\n",
       "1042   9z5omke4fo           2014-07-02          20140702190608                 NaN  -unknown-   NaN         basic            0       en         sem-brand             google               untracked        Web   Windows Desktop        Firefox\n",
       "42309  xxs4evrmke           2014-08-30          20140830080207                 NaN  -unknown-   NaN         basic           25       en         sem-brand               bing                     omg        iOS            iPhone  Mobile Safari\n",
       "50387  b1w9fk8nrc           2014-09-11          20140911224225                 NaN  -unknown-  31.0         basic            0       en            direct             direct                     omg        Web       Mac Desktop         Chrome\n",
       "27032  6nbp274dxn           2014-08-08          20140808162157                 NaN     FEMALE  32.0         basic            0       en            direct             direct                  linked        Web              iPad  Mobile Safari\n",
       "54445  5jnt1351r0           2014-09-18          20140918090708                 NaN  -unknown-   NaN         basic            0       en            direct             direct               untracked        Web   Windows Desktop         Chrome\n",
       "29477  moq4o6alix           2014-08-12          20140812010236                 NaN     FEMALE  41.0      facebook           25       en            direct             direct               untracked        iOS            iPhone      -unknown-\n",
       "34978  gaehte377f           2014-08-19          20140819224853                 NaN  -unknown-   NaN         basic            0       en         sem-brand             google                     omg        Web   Windows Desktop             IE\n",
       "46172  almaos1o8o           2014-09-05          20140905050947                 NaN     FEMALE  19.0         basic            0       en         sem-brand             google                  linked        Web       Mac Desktop         Safari\n",
       "32335  oz9wxj74ez           2014-08-16          20140816000404                 NaN  -unknown-   NaN         basic            0       en               seo             google                  linked        Web   Windows Desktop         Chrome"
      ]
     },
     "execution_count": 58,
     "metadata": {},
     "output_type": "execute_result"
    }
   ],
   "source": [
    "test_users.sample(20)"
   ]
  },
  {
   "cell_type": "code",
   "execution_count": 59,
   "id": "2d42af2b",
   "metadata": {
    "colab": {
     "base_uri": "https://localhost:8080/"
    },
    "executionInfo": {
     "elapsed": 17,
     "status": "ok",
     "timestamp": 1645448340087,
     "user": {
      "displayName": "Mohamed Ahmed Hassan Abdelmaguid Mohamed",
      "photoUrl": "https://lh3.googleusercontent.com/a-/AOh14Gg7Cz_FAvD0YxWzRP7aQqIpUg-scVtk8zA6OPSSfw=s64",
      "userId": "04245446656493821652"
     },
     "user_tz": -120
    },
    "id": "2d42af2b",
    "outputId": "3d3a0b82-d2bb-4871-f5c1-b0ab2e67526f"
   },
   "outputs": [
    {
     "name": "stdout",
     "output_type": "stream",
     "text": [
      "The shape of the data is -> (62096, 15) \n",
      " \n",
      "<class 'pandas.core.frame.DataFrame'>\n",
      "RangeIndex: 62096 entries, 0 to 62095\n",
      "Data columns (total 15 columns):\n",
      " #   Column                   Non-Null Count  Dtype  \n",
      "---  ------                   --------------  -----  \n",
      " 0   id                       62096 non-null  object \n",
      " 1   date_account_created     62096 non-null  object \n",
      " 2   timestamp_first_active   62096 non-null  int64  \n",
      " 3   date_first_booking       0 non-null      float64\n",
      " 4   gender                   62096 non-null  object \n",
      " 5   age                      33220 non-null  float64\n",
      " 6   signup_method            62096 non-null  object \n",
      " 7   signup_flow              62096 non-null  int64  \n",
      " 8   language                 62096 non-null  object \n",
      " 9   affiliate_channel        62096 non-null  object \n",
      " 10  affiliate_provider       62096 non-null  object \n",
      " 11  first_affiliate_tracked  62076 non-null  object \n",
      " 12  signup_app               62096 non-null  object \n",
      " 13  first_device_type        62096 non-null  object \n",
      " 14  first_browser            62096 non-null  object \n",
      "dtypes: float64(2), int64(2), object(11)\n",
      "memory usage: 7.1+ MB\n"
     ]
    }
   ],
   "source": [
    "print(\"The shape of the data is -> {} \\n \".format(test_users.shape))\n",
    "test_users.info()"
   ]
  },
  {
   "cell_type": "code",
   "execution_count": 60,
   "id": "66aaf8d5",
   "metadata": {
    "colab": {
     "base_uri": "https://localhost:8080/"
    },
    "executionInfo": {
     "elapsed": 16,
     "status": "ok",
     "timestamp": 1645448340088,
     "user": {
      "displayName": "Mohamed Ahmed Hassan Abdelmaguid Mohamed",
      "photoUrl": "https://lh3.googleusercontent.com/a-/AOh14Gg7Cz_FAvD0YxWzRP7aQqIpUg-scVtk8zA6OPSSfw=s64",
      "userId": "04245446656493821652"
     },
     "user_tz": -120
    },
    "id": "66aaf8d5",
    "outputId": "5f7f8c89-dc0c-4ed8-d9cb-70138fbe07db"
   },
   "outputs": [
    {
     "name": "stdout",
     "output_type": "stream",
     "text": [
      "The length uniques values of >> gender << : \n",
      "{'OTHER', 'MALE', '-unknown-', 'FEMALE'}\n",
      "-------------------------------------------------------------------------------\n",
      "The length uniques values of >> signup_method << : \n",
      "{'facebook', 'basic', 'weibo', 'google'}\n",
      "-------------------------------------------------------------------------------\n",
      "The length uniques values of >> language << : \n",
      "{'ca', 'ko', 'ru', 'es', 'id', 'el', 'hu', 'zh', 'cs', 'pl', 'it', 'nl', 'en', 'th', 'tr', 'de', 'fr', 'pt', '-unknown-', 'no', 'fi', 'sv', 'ja', 'da'}\n",
      "-------------------------------------------------------------------------------\n",
      "The length uniques values of >> affiliate_channel << : \n",
      "{'direct', 'remarketing', 'content', 'sem-non-brand', 'other', 'sem-brand', 'seo'}\n",
      "-------------------------------------------------------------------------------\n",
      "The length uniques values of >> affiliate_provider << : \n",
      "{'craigslist', 'direct', 'yandex', 'padmapper', 'meetup', 'facebook-open-graph', 'facebook', 'vast', 'daum', 'google', 'email-marketing', 'bing', 'other', 'yahoo', 'gsp', 'baidu', 'naver'}\n",
      "-------------------------------------------------------------------------------\n",
      "The length uniques values of >> first_affiliate_tracked << : \n",
      "{nan, 'marketing', 'omg', 'product', 'linked', 'untracked', 'local ops', 'tracked-other'}\n",
      "-------------------------------------------------------------------------------\n",
      "The length uniques values of >> signup_app << : \n",
      "{'Android', 'Moweb', 'iOS', 'Web'}\n",
      "-------------------------------------------------------------------------------\n",
      "The length uniques values of >> first_device_type << : \n",
      "{'Android Tablet', 'Android Phone', 'Windows Desktop', 'Mac Desktop', 'Desktop (Other)', 'Other/Unknown', 'SmartPhone (Other)', 'iPhone', 'iPad'}\n",
      "-------------------------------------------------------------------------------\n",
      "The length uniques values of >> first_browser << : \n",
      "{'Safari', 'SeaMonkey', 'IE', 'Chrome Mobile', 'SiteKiosk', 'BlackBerry Browser', 'AOL Explorer', 'Opera Mobile', 'wOSBrowser', 'Silk', 'Mobile Safari', 'Android Browser', 'Chrome', 'Sogou Explorer', 'UC Browser', 'Pale Moon', 'IE Mobile', 'Apple Mail', 'Opera Mini', 'Chromium', '-unknown-', 'Maxthon', 'IceWeasel', 'Yandex.Browser', 'Firefox', 'CometBird', 'Iron', 'Nintendo Browser', 'Mobile Firefox', 'IBrowse', 'Opera'}\n",
      "-------------------------------------------------------------------------------\n"
     ]
    }
   ],
   "source": [
    "#Let us see the length of uniques values for the sessions dataset\n",
    "for i in ['gender', 'signup_method', 'language','affiliate_channel','affiliate_provider','first_affiliate_tracked', 'signup_app', 'first_device_type', 'first_browser']:\n",
    "    print(\"The length uniques values of >> {} << : \\n{}\".format(i,set(test_users[i])))\n",
    "    print(\"-------------------------------------------------------------------------------\")\n",
    "    "
   ]
  },
  {
   "cell_type": "code",
   "execution_count": 61,
   "id": "3d4d2294",
   "metadata": {
    "colab": {
     "base_uri": "https://localhost:8080/",
     "height": 469
    },
    "executionInfo": {
     "elapsed": 510,
     "status": "ok",
     "timestamp": 1645448340585,
     "user": {
      "displayName": "Mohamed Ahmed Hassan Abdelmaguid Mohamed",
      "photoUrl": "https://lh3.googleusercontent.com/a-/AOh14Gg7Cz_FAvD0YxWzRP7aQqIpUg-scVtk8zA6OPSSfw=s64",
      "userId": "04245446656493821652"
     },
     "user_tz": -120
    },
    "id": "3d4d2294",
    "outputId": "8205ecaa-d774-44ce-e145-2be36141b4a1"
   },
   "outputs": [
    {
     "data": {
      "image/png": "[encoded data removed]",
      "text/plain": [
       "<Figure size 720x504 with 1 Axes>"
      ]
     },
     "metadata": {},
     "output_type": "display_data"
    }
   ],
   "source": [
    "missingvalues=pd.DataFrame(test_users.isnull().sum()/len(test_users)).reset_index().rename(columns={\"index\":\"Columns\",0:\"%OfMissingValues\"}).sort_values(by='%OfMissingValues',ascending=False)\n",
    "sns.barplot(x='%OfMissingValues', y='Columns', data=missingvalues,palette='flare');\n",
    "plt.title(\"% Of MissingValues\",fontsize=20);\n"
   ]
  },
  {
   "cell_type": "code",
   "execution_count": 62,
   "id": "8b9f0174",
   "metadata": {
    "executionInfo": {
     "elapsed": 9,
     "status": "ok",
     "timestamp": 1645448340585,
     "user": {
      "displayName": "Mohamed Ahmed Hassan Abdelmaguid Mohamed",
      "photoUrl": "https://lh3.googleusercontent.com/a-/AOh14Gg7Cz_FAvD0YxWzRP7aQqIpUg-scVtk8zA6OPSSfw=s64",
      "userId": "04245446656493821652"
     },
     "user_tz": -120
    },
    "id": "8b9f0174"
   },
   "outputs": [],
   "source": [
    "test_users.drop(columns='date_first_booking',inplace=True)\n",
    "test_users['gender'].replace('-unknown-', np.nan,inplace=True)\n",
    "test_users['first_browser'].replace('-unknown-', np.nan,inplace=True)\n",
    "test_users['language'].replace('-unknown-', np.nan,inplace=True)\n"
   ]
  },
  {
   "cell_type": "code",
   "execution_count": 65,
   "id": "adc376e6",
   "metadata": {
    "executionInfo": {
     "elapsed": 9,
     "status": "ok",
     "timestamp": 1645448340586,
     "user": {
      "displayName": "Mohamed Ahmed Hassan Abdelmaguid Mohamed",
      "photoUrl": "https://lh3.googleusercontent.com/a-/AOh14Gg7Cz_FAvD0YxWzRP7aQqIpUg-scVtk8zA6OPSSfw=s64",
      "userId": "04245446656493821652"
     },
     "user_tz": -120
    },
    "id": "adc376e6"
   },
   "outputs": [],
   "source": [
    "test_users['date_account_created']=pd.to_datetime(test_users['date_account_created'],format=\"%Y-%m-%d\")\n",
    "test_users['timestamp_first_active']=pd.to_datetime(test_users['timestamp_first_active']\\\n",
    "                                                     .astype(str).apply(lambda x: datetime(year=int(x[0:4]),\n",
    "                                                                                           month=int(x[4:6]),\n",
    "                                                                                           day=int(x[6:8]),\n",
    "                                                                                           hour=int(x[8:10]), \n",
    "                                                                                           minute=int(x[10:12]), \n",
    "                                                                                           second=int(x[12:]))))\n"
   ]
  },
  {
   "cell_type": "code",
   "execution_count": 66,
   "id": "244b2731",
   "metadata": {
    "executionInfo": {
     "elapsed": 9,
     "status": "ok",
     "timestamp": 1645448340586,
     "user": {
      "displayName": "Mohamed Ahmed Hassan Abdelmaguid Mohamed",
      "photoUrl": "https://lh3.googleusercontent.com/a-/AOh14Gg7Cz_FAvD0YxWzRP7aQqIpUg-scVtk8zA6OPSSfw=s64",
      "userId": "04245446656493821652"
     },
     "user_tz": -120
    },
    "id": "244b2731"
   },
   "outputs": [],
   "source": [
    "test_users.loc[test_users.age >= 119, 'age'] = np.nan\n",
    "test_users.loc[test_users.age <= 18, 'age'] = np.nan"
   ]
  },
  {
   "cell_type": "code",
   "execution_count": 67,
   "id": "d23340dc",
   "metadata": {
    "colab": {
     "base_uri": "https://localhost:8080/"
    },
    "executionInfo": {
     "elapsed": 8,
     "status": "ok",
     "timestamp": 1645448340586,
     "user": {
      "displayName": "Mohamed Ahmed Hassan Abdelmaguid Mohamed",
      "photoUrl": "https://lh3.googleusercontent.com/a-/AOh14Gg7Cz_FAvD0YxWzRP7aQqIpUg-scVtk8zA6OPSSfw=s64",
      "userId": "04245446656493821652"
     },
     "user_tz": -120
    },
    "id": "d23340dc",
    "outputId": "ef0dad08-1641-443e-877c-8ab0ae62434a"
   },
   "outputs": [
    {
     "name": "stdout",
     "output_type": "stream",
     "text": [
      "The length uniques values of >> gender << : \n",
      "{nan, 'MALE', 'OTHER', 'FEMALE'}\n",
      "-------------------------------------------------------------------------------\n",
      "The length uniques values of >> signup_method << : \n",
      "{'facebook', 'basic', 'weibo', 'google'}\n",
      "-------------------------------------------------------------------------------\n",
      "The length uniques values of >> language << : \n",
      "{nan, 'ca', 'ko', 'ru', 'es', 'id', 'el', 'hu', 'zh', 'cs', 'pl', 'it', 'nl', 'en', 'th', 'tr', 'de', 'fr', 'pt', 'no', 'fi', 'sv', 'ja', 'da'}\n",
      "-------------------------------------------------------------------------------\n",
      "The length uniques values of >> affiliate_channel << : \n",
      "{'direct', 'remarketing', 'content', 'sem-non-brand', 'other', 'sem-brand', 'seo'}\n",
      "-------------------------------------------------------------------------------\n",
      "The length uniques values of >> affiliate_provider << : \n",
      "{'craigslist', 'direct', 'yandex', 'padmapper', 'meetup', 'facebook-open-graph', 'facebook', 'vast', 'daum', 'google', 'email-marketing', 'bing', 'other', 'yahoo', 'gsp', 'baidu', 'naver'}\n",
      "-------------------------------------------------------------------------------\n",
      "The length uniques values of >> first_affiliate_tracked << : \n",
      "{nan, 'marketing', 'omg', 'product', 'linked', 'untracked', 'local ops', 'tracked-other'}\n",
      "-------------------------------------------------------------------------------\n",
      "The length uniques values of >> signup_app << : \n",
      "{'Android', 'Moweb', 'iOS', 'Web'}\n",
      "-------------------------------------------------------------------------------\n",
      "The length uniques values of >> first_device_type << : \n",
      "{'Android Tablet', 'Android Phone', 'Windows Desktop', 'Mac Desktop', 'Desktop (Other)', 'Other/Unknown', 'SmartPhone (Other)', 'iPhone', 'iPad'}\n",
      "-------------------------------------------------------------------------------\n",
      "The length uniques values of >> first_browser << : \n",
      "{nan, 'Safari', 'SeaMonkey', 'IE', 'Chrome Mobile', 'SiteKiosk', 'BlackBerry Browser', 'AOL Explorer', 'Opera Mobile', 'wOSBrowser', 'Silk', 'Mobile Safari', 'Android Browser', 'Chrome', 'Sogou Explorer', 'UC Browser', 'Pale Moon', 'IE Mobile', 'Apple Mail', 'Opera Mini', 'Chromium', 'Maxthon', 'IceWeasel', 'Yandex.Browser', 'Firefox', 'CometBird', 'Iron', 'Nintendo Browser', 'Mobile Firefox', 'IBrowse', 'Opera'}\n",
      "-------------------------------------------------------------------------------\n"
     ]
    }
   ],
   "source": [
    "#Let us see the length of uniques values for the sessions dataset\n",
    "for i in ['gender', 'signup_method', 'language','affiliate_channel','affiliate_provider','first_affiliate_tracked', 'signup_app', 'first_device_type', 'first_browser']:\n",
    "    print(\"The length uniques values of >> {} << : \\n{}\".format(i,set(test_users[i])))\n",
    "    print(\"-------------------------------------------------------------------------------\")\n",
    "    "
   ]
  },
  {
   "cell_type": "code",
   "execution_count": 68,
   "id": "693fa33c",
   "metadata": {
    "executionInfo": {
     "elapsed": 19097,
     "status": "ok",
     "timestamp": 1645448359678,
     "user": {
      "displayName": "Mohamed Ahmed Hassan Abdelmaguid Mohamed",
      "photoUrl": "https://lh3.googleusercontent.com/a-/AOh14Gg7Cz_FAvD0YxWzRP7aQqIpUg-scVtk8zA6OPSSfw=s64",
      "userId": "04245446656493821652"
     },
     "user_tz": -120
    },
    "id": "693fa33c"
   },
   "outputs": [],
   "source": [
    "# Let us save the data after cleaning.\n",
    "# sessions.to_pickle('/content/gdrive/MyDrive/Colab Notebooks/Airbnb New User Bookings/datasets/afterCleaning/sessions_v1.p')\n",
    "# countries.to_pickle('/content/gdrive/MyDrive/Colab Notebooks/Airbnb New User Bookings/datasets/afterCleaning/countries_v1.p')\n",
    "# age_gender.to_pickle('/content/gdrive/MyDrive/Colab Notebooks/Airbnb New User Bookings/datasets/afterCleaning/age_gender_bkts_v1.p')\n",
    "\n",
    "# train_users.to_pickle('/content/gdrive/MyDrive/Colab Notebooks/Airbnb New User Bookings/datasets/afterCleaning/train_users_2_v1.p')\n",
    "# test_users.to_pickle('/content/gdrive/MyDrive/Colab Notebooks/Airbnb New User Bookings/datasets/afterCleaning/test_users_v1.p')\n",
    "\n",
    "\n",
    "\n",
    "\n",
    "# Let us save the data after cleaning. (local)\n",
    "sessions.to_pickle('./datasets/afterCleaning/sessions_v1.p')\n",
    "countries.to_pickle('./datasets/afterCleaning/countries_v1.p')\n",
    "age_gender.to_pickle('./datasets/afterCleaning/age_gender_bkts_v1.p')\n",
    "\n",
    "train_users.to_pickle('./datasets/afterCleaning/train_users_2_v1.p')\n",
    "test_users.to_pickle('./datasets/afterCleaning/test_users_v1.p')\n"
   ]
  },
  {
   "cell_type": "code",
   "execution_count": null,
   "id": "c2069fea",
   "metadata": {
    "executionInfo": {
     "elapsed": 14,
     "status": "ok",
     "timestamp": 1645448359678,
     "user": {
      "displayName": "Mohamed Ahmed Hassan Abdelmaguid Mohamed",
      "photoUrl": "https://lh3.googleusercontent.com/a-/AOh14Gg7Cz_FAvD0YxWzRP7aQqIpUg-scVtk8zA6OPSSfw=s64",
      "userId": "04245446656493821652"
     },
     "user_tz": -120
    },
    "id": "c2069fea"
   },
   "outputs": [],
   "source": []
  },
  {
   "cell_type": "code",
   "execution_count": null,
   "id": "6fb592ab",
   "metadata": {},
   "outputs": [],
   "source": []
  }
 ],
 "metadata": {
  "colab": {
   "collapsed_sections": [],
   "name": "01_Data_Collecting_and_Cleaning.ipynb",
   "provenance": []
  },
  "kernelspec": {
   "display_name": "Python 3 (ipykernel)",
   "language": "python",
   "name": "python3"
  },
  "language_info": {
   "codemirror_mode": {
    "name": "ipython",
    "version": 3
   },
   "file_extension": ".py",
   "mimetype": "text/x-python",
   "name": "python",
   "nbconvert_exporter": "python",
   "pygments_lexer": "ipython3",
   "version": "3.8.8"
  }
 },
 "nbformat": 4,
 "nbformat_minor": 5
}
